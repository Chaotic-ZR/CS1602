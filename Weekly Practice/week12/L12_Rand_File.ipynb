{
 "cells": [
  {
   "cell_type": "markdown",
   "metadata": {},
   "source": [
    "# random"
   ]
  },
  {
   "cell_type": "code",
   "execution_count": null,
   "metadata": {},
   "outputs": [],
   "source": []
  },
  {
   "cell_type": "code",
   "execution_count": 1,
   "metadata": {},
   "outputs": [
    {
     "name": "stdout",
     "output_type": "stream",
     "text": [
      "Your lucky number is 2\n",
      "Your first three dices are 3, 2, 1.\n"
     ]
    }
   ],
   "source": [
    "import random\n",
    "\n",
    "print(f\"Your lucky number is {random.randint(1, 6)}\")\n",
    "\n",
    "print(\n",
    "    f\"Your first three dices are {random.randint(1, 6)}, {random.randint(1, 6)}, {random.randint(1, 6)}.\"\n",
    ")"
   ]
  },
  {
   "cell_type": "code",
   "execution_count": 3,
   "metadata": {},
   "outputs": [
    {
     "name": "stdout",
     "output_type": "stream",
     "text": [
      "[0.16666666666666666, 0.0, 0.16666666666666666, 0.3333333333333333, 0.16666666666666666, 0.16666666666666666]\n",
      "[0.15, 0.08333333333333333, 0.16666666666666666, 0.21666666666666667, 0.2, 0.18333333333333332]\n",
      "[0.15666666666666668, 0.17333333333333334, 0.18833333333333332, 0.15833333333333333, 0.16166666666666665, 0.16166666666666665]\n",
      "[0.16933333333333334, 0.16983333333333334, 0.16883333333333334, 0.16916666666666666, 0.158, 0.16483333333333333]\n",
      "[0.16613333333333333, 0.16591666666666666, 0.16631666666666667, 0.16688333333333333, 0.16493333333333332, 0.16981666666666667]\n",
      "[0.16713333333333333, 0.16701, 0.16630166666666665, 0.16650333333333334, 0.16680333333333333, 0.16624833333333333]\n"
     ]
    }
   ],
   "source": [
    "import random\n",
    "\n",
    "\n",
    "def test_uniform(rounds):\n",
    "    li = [0] * 6\n",
    "    for i in range(rounds):\n",
    "        li[random.randint(1, 6) - 1] += 1\n",
    "    for i in range(6):\n",
    "        li[i] /= rounds\n",
    "\n",
    "    return li\n",
    "\n",
    "\n",
    "for rounds in (6, 60, 600, 6000, 60000, 600000):\n",
    "    print(test_uniform(rounds))"
   ]
  },
  {
   "cell_type": "code",
   "execution_count": 4,
   "metadata": {},
   "outputs": [
    {
     "name": "stdout",
     "output_type": "stream",
     "text": [
      "13\n",
      "7\n",
      "7\n",
      "19\n",
      "19\n",
      "7\n",
      "10\n",
      "16\n",
      "4\n",
      "10\n"
     ]
    }
   ],
   "source": [
    "for i in range(10):\n",
    "    print(random.randrange(1, 20, 3))"
   ]
  },
  {
   "cell_type": "code",
   "execution_count": 6,
   "metadata": {},
   "outputs": [
    {
     "name": "stdout",
     "output_type": "stream",
     "text": [
      "0.3744124851947369\n",
      "0.9807194952065752\n",
      "0.049552510842784336\n",
      "0.16745393352679827\n",
      "0.37586592846704303\n",
      "0.6629287486194784\n",
      "0.5294961001082706\n",
      "0.23952881542060367\n",
      "0.8805506089116676\n",
      "0.7796646821567711\n"
     ]
    }
   ],
   "source": [
    "for i in range(10):\n",
    "    print(random.random())"
   ]
  },
  {
   "cell_type": "code",
   "execution_count": 8,
   "metadata": {},
   "outputs": [
    {
     "name": "stdout",
     "output_type": "stream",
     "text": [
      "PI is: 3.14139868\n"
     ]
    }
   ],
   "source": [
    "import random\n",
    "\n",
    "\n",
    "def inside(x, y):\n",
    "    return x * x + y * y <= 1\n",
    "\n",
    "\n",
    "n = 100_000_000\n",
    "m = 0\n",
    "for _ in range(n):\n",
    "    x = random.uniform(-1, 1)\n",
    "    y = random.uniform(-1, 1)\n",
    "    if inside(x, y):\n",
    "        m += 1\n",
    "\n",
    "print(f\"PI is: {4 * m / n}\")"
   ]
  },
  {
   "cell_type": "code",
   "execution_count": 9,
   "metadata": {},
   "outputs": [
    {
     "name": "stdout",
     "output_type": "stream",
     "text": [
      "[0.5714025946899135, 0.4288890546751146, 0.5780913011344704, 0.20609823213950174]\n",
      "[0.5714025946899135, 0.4288890546751146, 0.5780913011344704, 0.20609823213950174]\n",
      "[0.5714025946899135, 0.4288890546751146, 0.5780913011344704, 0.20609823213950174]\n",
      "[0.5714025946899135, 0.4288890546751146, 0.5780913011344704, 0.20609823213950174]\n",
      "[0.5714025946899135, 0.4288890546751146, 0.5780913011344704, 0.20609823213950174]\n",
      "[0.5714025946899135, 0.4288890546751146, 0.5780913011344704, 0.20609823213950174]\n",
      "[0.5714025946899135, 0.4288890546751146, 0.5780913011344704, 0.20609823213950174]\n",
      "[0.5714025946899135, 0.4288890546751146, 0.5780913011344704, 0.20609823213950174]\n",
      "[0.5714025946899135, 0.4288890546751146, 0.5780913011344704, 0.20609823213950174]\n",
      "[0.5714025946899135, 0.4288890546751146, 0.5780913011344704, 0.20609823213950174]\n"
     ]
    }
   ],
   "source": [
    "import random\n",
    "\n",
    "\n",
    "def test_random_seed(n):\n",
    "    random.seed(10)\n",
    "    lst = []\n",
    "    for i in range(n):\n",
    "        lst.append(random.random())\n",
    "\n",
    "    return lst\n",
    "\n",
    "\n",
    "for i in range(10):\n",
    "    print(test_random_seed(4))"
   ]
  },
  {
   "cell_type": "code",
   "execution_count": 10,
   "metadata": {},
   "outputs": [
    {
     "name": "stdout",
     "output_type": "stream",
     "text": [
      "[4, 5, 0, 1, 2, 3, 6]\n",
      "671\n",
      "[155, 511, 1950, 1951]\n"
     ]
    }
   ],
   "source": [
    "lst = list(range(7))\n",
    "random.shuffle(lst)\n",
    "print(lst)\n",
    "\n",
    "lst = list(range(2020))\n",
    "print(random.choice(lst))\n",
    "\n",
    "spl = random.sample(lst, k=4)\n",
    "print(spl)"
   ]
  },
  {
   "cell_type": "markdown",
   "metadata": {},
   "source": [
    "# Unicode"
   ]
  },
  {
   "cell_type": "code",
   "execution_count": 12,
   "metadata": {},
   "outputs": [
    {
     "name": "stdout",
     "output_type": "stream",
     "text": [
      "btxt=b'hello world', type=<class 'bytes'>, len=11\n",
      "After splitting [b'hello', b'world']\n",
      "Inverse: b'dlrow olleh'\n",
      "Decode = hello world, encoding = b'hello world'\n",
      "\n",
      "btxt=b'~!@#$%^&*()_+ {}:\"|<>?', type=<class 'bytes'>, len=22\n",
      "After splitting [b'~!@#$%^&*()_+', b'{}:\"|<>?']\n",
      "Inverse: b'?><|\":}{ +_)(*&^%$#@!~'\n",
      "Decode = ~!@#$%^&*()_+ {}:\"|<>?, encoding = b'~!@#$%^&*()_+ {}:\"|<>?'\n",
      "\n",
      "btxt=b'\\xe4\\xba\\xa4\\xe9\\x80\\x9a\\xe5\\xa4\\xa7\\xe5\\xad\\xa6top3', type=<class 'bytes'>, len=16\n",
      "After splitting [b'\\xe4\\xba\\xa4\\xe9\\x80\\x9a\\xe5\\xa4\\xa7\\xe5\\xad\\xa6top3']\n",
      "Inverse: b'3pot\\xa6\\xad\\xe5\\xa7\\xa4\\xe5\\x9a\\x80\\xe9\\xa4\\xba\\xe4'\n",
      "Decode = 交通大学top3, encoding = b'\\xe4\\xba\\xa4\\xe9\\x80\\x9a\\xe5\\xa4\\xa7\\xe5\\xad\\xa6top3'\n",
      "\n",
      "btxt=b'(\\xe0\\xb9\\x91\\xc2\\xb4\\xe2\\x88\\x80`\\xe0\\xb9\\x91) \\xe2\\x82\\x8d\\xe1\\x90\\xa2..\\xe1\\x90\\xa2\\xe2\\x82\\x8e (\\xe2\\x80\\xa2\\xcc\\x86 \\xe1\\xb5\\x95\\xe2\\x80\\xa2\\xcc\\x86 )\\xe2\\x97\\x9e\\xe2\\x99\\xa1', type=<class 'bytes'>, len=53\n",
      "After splitting [b'(\\xe0\\xb9\\x91\\xc2\\xb4\\xe2\\x88\\x80`\\xe0\\xb9\\x91)', b'\\xe2\\x82\\x8d\\xe1\\x90\\xa2..\\xe1\\x90\\xa2\\xe2\\x82\\x8e', b'(\\xe2\\x80\\xa2\\xcc\\x86', b'\\xe1\\xb5\\x95\\xe2\\x80\\xa2\\xcc\\x86', b')\\xe2\\x97\\x9e\\xe2\\x99\\xa1']\n",
      "Inverse: b'\\xa1\\x99\\xe2\\x9e\\x97\\xe2) \\x86\\xcc\\xa2\\x80\\xe2\\x95\\xb5\\xe1 \\x86\\xcc\\xa2\\x80\\xe2( \\x8e\\x82\\xe2\\xa2\\x90\\xe1..\\xa2\\x90\\xe1\\x8d\\x82\\xe2 )\\x91\\xb9\\xe0`\\x80\\x88\\xe2\\xb4\\xc2\\x91\\xb9\\xe0('\n",
      "Decode = (๑´∀`๑) ₍ᐢ..ᐢ₎ (•̆ ᵕ•̆ )◞♡, encoding = b'(\\xe0\\xb9\\x91\\xc2\\xb4\\xe2\\x88\\x80`\\xe0\\xb9\\x91) \\xe2\\x82\\x8d\\xe1\\x90\\xa2..\\xe1\\x90\\xa2\\xe2\\x82\\x8e (\\xe2\\x80\\xa2\\xcc\\x86 \\xe1\\xb5\\x95\\xe2\\x80\\xa2\\xcc\\x86 )\\xe2\\x97\\x9e\\xe2\\x99\\xa1'\n",
      "\n"
     ]
    }
   ],
   "source": [
    "def test_bytes(btxt):\n",
    "    print(f\"{btxt=}, type={type(btxt)}, len={len(btxt)}\")\n",
    "    print(f\"After splitting {btxt.split()}\")\n",
    "    print(f\"Inverse: {btxt[::-1]}\")\n",
    "\n",
    "    txt = btxt.decode()\n",
    "    print(f\"Decode = {txt}, encoding = {txt.encode()}\")\n",
    "\n",
    "\n",
    "btxt = b\"hello world\"\n",
    "test_bytes(btxt)\n",
    "print()\n",
    "\n",
    "btxt = b'~!@#$%^&*()_+ {}:\"|<>?'\n",
    "test_bytes(btxt)\n",
    "print()\n",
    "\n",
    "btxt = \"交通大学top3\".encode()  # Error b\"交通大学 top3\"\n",
    "test_bytes(btxt)\n",
    "print()\n",
    "\n",
    "btxt = \"(๑´∀`๑) ₍ᐢ..ᐢ₎ (•̆ ᵕ•̆ )◞♡\".encode()\n",
    "test_bytes(btxt)\n",
    "print()"
   ]
  },
  {
   "cell_type": "code",
   "execution_count": 1,
   "metadata": {},
   "outputs": [
    {
     "name": "stdout",
     "output_type": "stream",
     "text": [
      "utf-8\n",
      "Ä\n",
      "b'ni' b'ni' b'ni'\n",
      "2 2 2\n",
      "b'\\xff\\xfen\\x00i\\x00' 6\n",
      "b'\\xff\\xfe\\x00\\x00n\\x00\\x00\\x00i\\x00\\x00\\x00' 12\n"
     ]
    }
   ],
   "source": [
    "import sys\n",
    "\n",
    "print(sys.getdefaultencoding())\n",
    "\n",
    "print(chr(196))\n",
    "\n",
    "s = \"ni\"\n",
    "print(s.encode(\"ascii\"), s.encode(\"latin1\"), s.encode(\"utf8\"))\n",
    "print(len(s.encode(\"ascii\")), len(s.encode(\"latin1\")), len(s.encode(\"utf8\")))\n",
    "print(s.encode(\"utf16\"), len(s.encode(\"utf16\")))\n",
    "print(s.encode(\"utf32\"), len(s.encode(\"utf32\")))"
   ]
  },
  {
   "cell_type": "code",
   "execution_count": 13,
   "metadata": {},
   "outputs": [
    {
     "name": "stdout",
     "output_type": "stream",
     "text": [
      "EURO SIGN\n",
      "€\n",
      "GREEK SMALL LETTER ALPHA\n",
      "α\n",
      "WAVING HAND SIGN\n",
      "👋\n",
      "EYES\n",
      "👀\n",
      "TEDDY BEAR\n",
      "🧸\n",
      "MICROPHONE\n",
      "🎤\n",
      "HEXAGRAM FOR HOLDING TOGETHER\n",
      "䷇\n"
     ]
    }
   ],
   "source": [
    "import unicodedata\n",
    "\n",
    "print(unicodedata.name(\"€\"))\n",
    "print(unicodedata.lookup(\"EURO SIGN\"))\n",
    "\n",
    "print(unicodedata.name(\"\\U000003B1\"))\n",
    "print(unicodedata.lookup(\"Greek Small Letter Alpha\"))\n",
    "\n",
    "print(unicodedata.name(\"\\U0001F44B\"))\n",
    "print(unicodedata.lookup(\"WAVING HAND SIGN\"))\n",
    "\n",
    "print(unicodedata.name(\"\\U0001F440\"))\n",
    "print(unicodedata.lookup(\"EYES\"))\n",
    "\n",
    "print(unicodedata.name(\"\\U0001F9F8\"))\n",
    "print(unicodedata.lookup(\"TEDDY BEAR\"))\n",
    "\n",
    "print(unicodedata.name(\"\\U0001F3A4\"))\n",
    "print(unicodedata.lookup(\"MICROPHONE\"))\n",
    "\n",
    "print(unicodedata.name(\"\\U00004dC7\"))\n",
    "print(unicodedata.lookup(\"HEXAGRAM FOR HOLDING TOGETHER\"))"
   ]
  },
  {
   "cell_type": "markdown",
   "metadata": {},
   "source": [
    "# File Processing"
   ]
  },
  {
   "cell_type": "code",
   "execution_count": null,
   "metadata": {},
   "outputs": [],
   "source": [
    "import sys\n",
    "\n",
    "print(sys.version)\n",
    "print(sys.argv)\n",
    "print(sys.path)\n",
    "print(sys.maxsize, 2**63)\n",
    "print(sys.stdin)\n",
    "print(sys.stdout)\n",
    "print(sys.stderr)\n",
    "# sys.exit()\n",
    "print(\"Byebye\")"
   ]
  },
  {
   "cell_type": "markdown",
   "metadata": {},
   "source": [
    "# a.py"
   ]
  },
  {
   "cell_type": "code",
   "execution_count": 1,
   "metadata": {},
   "outputs": [
    {
     "name": "stdout",
     "output_type": "stream",
     "text": [
      "/Users/fancheng/Library/Python/3.11/lib/python/site-packages/ipykernel_launcher.py\n",
      "--ip=127.0.0.1\n",
      "--stdin=9011\n",
      "--control=9009\n",
      "--hb=9008\n",
      "--Session.signature_scheme=\"hmac-sha256\"\n",
      "--Session.key=b\"ead0be79-b59a-4878-a615-837aa52a6dc9\"\n",
      "--shell=9010\n",
      "--transport=\"tcp\"\n",
      "--iopub=9012\n",
      "--f=/Users/fancheng/Library/Jupyter/runtime/kernel-v2-27790MshndR85je7w.json\n",
      "Test spam\n",
      "Hell world\n",
      "Test for loop\n",
      "0\n",
      "1\n",
      "2\n"
     ]
    }
   ],
   "source": [
    "import b # File a.py\n",
    "import sys\n",
    "\n",
    "for x in sys.argv:\n",
    "\tprint(x)\n",
    "\n",
    "b.spam(\"Test\")\n",
    "\n",
    "print(\"Hell world\")\n",
    "\n",
    "print(\"Test for loop\")\n",
    "\n",
    "for x in range(3):\n",
    "\tprint(x)\n"
   ]
  },
  {
   "cell_type": "code",
   "execution_count": 11,
   "metadata": {},
   "outputs": [
    {
     "name": "stdout",
     "output_type": "stream",
     "text": [
      "3.11.6 (main, Oct  2 2023, 20:46:14) [Clang 14.0.3 (clang-1403.0.22.14.1)]\n",
      "sys.version_info(major=3, minor=11, micro=6, releaselevel='final', serial=0)\n",
      "['/Users/fancheng/Library/Python/3.11/lib/python/site-packages/ipykernel_launcher.py', '--ip=127.0.0.1', '--stdin=9008', '--control=9006', '--hb=9005', '--Session.signature_scheme=\"hmac-sha256\"', '--Session.key=b\"02be0945-af12-41f2-baf7-cf2fb0da039b\"', '--shell=9007', '--transport=\"tcp\"', '--iopub=9009', '--f=/Users/fancheng/Library/Jupyter/runtime/kernel-v2-363211QocwveFtBE2.json']\n",
      "['/Users/fancheng/Library/CloudStorage/OneDrive-Personal/CS124计算导论/2023 秋季/lecture notes/ipynb', '/opt/homebrew/Cellar/python@3.11/3.11.6/Frameworks/Python.framework/Versions/3.11/lib/python311.zip', '/opt/homebrew/Cellar/python@3.11/3.11.6/Frameworks/Python.framework/Versions/3.11/lib/python3.11', '/opt/homebrew/Cellar/python@3.11/3.11.6/Frameworks/Python.framework/Versions/3.11/lib/python3.11/lib-dynload', '', '/Users/fancheng/Library/Python/3.11/lib/python/site-packages', '/opt/homebrew/lib/python3.11/site-packages']\n",
      "/Users/fancheng/Library/CloudStorage/OneDrive-Personal/CS124计算导论/2023 秋季/lecture notes/ipynb\n"
     ]
    }
   ],
   "source": [
    "import sys\n",
    "\n",
    "print(sys.version)\n",
    "print(sys.version_info)\n",
    "\n",
    "print(sys.argv)\n",
    "\n",
    "print(sys.path)\n",
    "print(sys.path[0])"
   ]
  },
  {
   "cell_type": "code",
   "execution_count": null,
   "metadata": {},
   "outputs": [],
   "source": [
    "import os\n",
    "import sys\n",
    "\n",
    "print(os.name)\n",
    "\n",
    "print(os.getcwd())\n",
    "f = os.path.join('usr', 'bin', 'spam')\n",
    "print(f)\n",
    "l = os.path.split(f)\n",
    "print(l)\n",
    "\n",
    "print(os.path.getsize(sys.path[0]+'\\\\course_code.py'))"
   ]
  },
  {
   "cell_type": "code",
   "execution_count": 3,
   "metadata": {},
   "outputs": [
    {
     "name": "stdout",
     "output_type": "stream",
     "text": [
      "Name of the file: file.txt\n",
      "Close or not: False\n",
      "Opening mode: wb\n"
     ]
    }
   ],
   "source": [
    "f = open(\"file.txt\", \"wb\")\n",
    "print(f\"Name of the file: {f.name}\")\n",
    "print(f\"Close or not: {f.closed}\")\n",
    "print(f\"Opening mode: {f.mode}\")"
   ]
  },
  {
   "cell_type": "code",
   "execution_count": 3,
   "metadata": {},
   "outputs": [
    {
     "name": "stdout",
     "output_type": "stream",
     "text": [
      "source_data/text_files/raw_data.txt\n",
      "raw_data.txt\n",
      ".txt\n",
      "raw_data\n",
      "Oops, file doesn't exist!\n"
     ]
    }
   ],
   "source": [
    "from pathlib import Path\n",
    "\n",
    "data_folder = Path(\"source_data/text_files/\")\n",
    "file_to_open = data_folder / \"raw_data.txt\"\n",
    "print(file_to_open)\n",
    "\n",
    "filename = Path(\"source_data/text_files/raw_data.txt\")\n",
    "print(filename.name)\n",
    "print(filename.suffix)\n",
    "print(filename.stem)\n",
    "\n",
    "\n",
    "data_folder = Path(\"source_data/text_files/\")\n",
    "file_to_open = data_folder / \"raw_data.txt\"\n",
    "\n",
    "if not filename.exists():\n",
    "    print(\"Oops, file doesn't exist!\")\n",
    "else:\n",
    "    print(\"Yay, the file exists!\")"
   ]
  },
  {
   "cell_type": "code",
   "execution_count": 15,
   "metadata": {},
   "outputs": [],
   "source": [
    "mf = open(\"test.txt\", \"w\")\n",
    "mf.write(\"My first file written from Python\\n\")\n",
    "mf.write(\"---------------------------------\\n\")\n",
    "mf.write(\"Hello, world\\n\")\n",
    "mf.close()"
   ]
  },
  {
   "cell_type": "code",
   "execution_count": 16,
   "metadata": {},
   "outputs": [],
   "source": [
    "res = [\"123\", \"We\", \"US Election\"]\n",
    "wf = open(\"wtest.txt\", \"w+\")\n",
    "wf.writelines(res)\n",
    "wf.close()"
   ]
  },
  {
   "cell_type": "code",
   "execution_count": 6,
   "metadata": {},
   "outputs": [
    {
     "name": "stdout",
     "output_type": "stream",
     "text": [
      "My first file written from Python\n",
      "---------------------------------\n",
      "Hello, world\n",
      "\n"
     ]
    }
   ],
   "source": [
    "rf = open(\"test.txt\", \"r\")\n",
    "while True:\n",
    "    line = rf.readline()\n",
    "    print(line, end=\"\")\n",
    "    if len(line) == 0:\n",
    "        break\n",
    "print()\n",
    "rf.close()"
   ]
  },
  {
   "cell_type": "code",
   "execution_count": 17,
   "metadata": {},
   "outputs": [
    {
     "name": "stdout",
     "output_type": "stream",
     "text": [
      "['M', 'y', ' ', 'f', 'i', 'r', 's', 't', ' ', 'f', 'i', 'l', 'e', ' ', 'w', 'r', 'i', 't', 't', 'e', 'n', ' ', 'f', 'r', 'o', 'm', ' ', 'P', 'y', 't', 'h', 'o', 'n', '\\n']\n",
      "['-', '-', '-', '-', '-', '-', '-', '-', '-', '-', '-', '-', '-', '-', '-', '-', '-', '-', '-', '-', '-', '-', '-', '-', '-', '-', '-', '-', '-', '-', '-', '-', '-', '\\n']\n",
      "['H', 'e', 'l', 'l', 'o', ',', ' ', 'w', 'o', 'r', 'l', 'd', '\\n']\n",
      "[]\n"
     ]
    }
   ],
   "source": [
    "f = open(\"test.txt\", \"r\")\n",
    "while True:\n",
    "    line = f.readline()\n",
    "    l = list(line)\n",
    "    print(l)\n",
    "    if len(l) == 0:\n",
    "        break\n",
    "\n",
    "f.close()"
   ]
  },
  {
   "cell_type": "code",
   "execution_count": 18,
   "metadata": {},
   "outputs": [
    {
     "name": "stdout",
     "output_type": "stream",
     "text": [
      "['My first file written from Python\\n', '---------------------------------\\n', 'Hello, world\\n']\n"
     ]
    }
   ],
   "source": [
    "rf = open(\"test.txt\")\n",
    "res = rf.readlines()\n",
    "rf.close()\n",
    "print(res)"
   ]
  },
  {
   "cell_type": "code",
   "execution_count": 19,
   "metadata": {},
   "outputs": [],
   "source": [
    "with open(\"test_with.txt\", \"w\") as f:\n",
    "    f.write(\"My first file written from Python\\n\")\n",
    "    f.write(\"---------------------------------\\n\")\n",
    "    f.write(\"Hello, world\\n\")"
   ]
  },
  {
   "cell_type": "code",
   "execution_count": 20,
   "metadata": {},
   "outputs": [
    {
     "ename": "FileNotFoundError",
     "evalue": "[Errno 2] No such file or directory: 'mylog.txt'",
     "output_type": "error",
     "traceback": [
      "\u001b[0;31m---------------------------------------------------------------------------\u001b[0m",
      "\u001b[0;31mFileNotFoundError\u001b[0m                         Traceback (most recent call last)",
      "\u001b[1;32m/Users/fancheng/Library/CloudStorage/OneDrive-Personal/CS124计算导论/2023 秋季/lecture notes/ipynb/L12_Rand_File.ipynb Cell 28\u001b[0m line \u001b[0;36m1\n\u001b[0;32m----> <a href='vscode-notebook-cell:/Users/fancheng/Library/CloudStorage/OneDrive-Personal/CS124%E8%AE%A1%E7%AE%97%E5%AF%BC%E8%AE%BA/2023%20%E7%A7%8B%E5%AD%A3/lecture%20notes/ipynb/L12_Rand_File.ipynb#X51sZmlsZQ%3D%3D?line=0'>1</a>\u001b[0m \u001b[39mwith\u001b[39;00m \u001b[39mopen\u001b[39;49m(\u001b[39m'\u001b[39;49m\u001b[39mmylog.txt\u001b[39;49m\u001b[39m'\u001b[39;49m) \u001b[39mas\u001b[39;00m infile, \u001b[39mopen\u001b[39m(\u001b[39m'\u001b[39m\u001b[39ma.out\u001b[39m\u001b[39m'\u001b[39m, \u001b[39m'\u001b[39m\u001b[39mw\u001b[39m\u001b[39m'\u001b[39m) \u001b[39mas\u001b[39;00m outfile:\n\u001b[1;32m      <a href='vscode-notebook-cell:/Users/fancheng/Library/CloudStorage/OneDrive-Personal/CS124%E8%AE%A1%E7%AE%97%E5%AF%BC%E8%AE%BA/2023%20%E7%A7%8B%E5%AD%A3/lecture%20notes/ipynb/L12_Rand_File.ipynb#X51sZmlsZQ%3D%3D?line=1'>2</a>\u001b[0m     \u001b[39mpass\u001b[39;00m\n",
      "File \u001b[0;32m~/Library/Python/3.11/lib/python/site-packages/IPython/core/interactiveshell.py:286\u001b[0m, in \u001b[0;36m_modified_open\u001b[0;34m(file, *args, **kwargs)\u001b[0m\n\u001b[1;32m    279\u001b[0m \u001b[39mif\u001b[39;00m file \u001b[39min\u001b[39;00m {\u001b[39m0\u001b[39m, \u001b[39m1\u001b[39m, \u001b[39m2\u001b[39m}:\n\u001b[1;32m    280\u001b[0m     \u001b[39mraise\u001b[39;00m \u001b[39mValueError\u001b[39;00m(\n\u001b[1;32m    281\u001b[0m         \u001b[39mf\u001b[39m\u001b[39m\"\u001b[39m\u001b[39mIPython won\u001b[39m\u001b[39m'\u001b[39m\u001b[39mt let you open fd=\u001b[39m\u001b[39m{\u001b[39;00mfile\u001b[39m}\u001b[39;00m\u001b[39m by default \u001b[39m\u001b[39m\"\u001b[39m\n\u001b[1;32m    282\u001b[0m         \u001b[39m\"\u001b[39m\u001b[39mas it is likely to crash IPython. If you know what you are doing, \u001b[39m\u001b[39m\"\u001b[39m\n\u001b[1;32m    283\u001b[0m         \u001b[39m\"\u001b[39m\u001b[39myou can use builtins\u001b[39m\u001b[39m'\u001b[39m\u001b[39m open.\u001b[39m\u001b[39m\"\u001b[39m\n\u001b[1;32m    284\u001b[0m     )\n\u001b[0;32m--> 286\u001b[0m \u001b[39mreturn\u001b[39;00m io_open(file, \u001b[39m*\u001b[39;49margs, \u001b[39m*\u001b[39;49m\u001b[39m*\u001b[39;49mkwargs)\n",
      "\u001b[0;31mFileNotFoundError\u001b[0m: [Errno 2] No such file or directory: 'mylog.txt'"
     ]
    }
   ],
   "source": [
    "# Test Only\n",
    "with open('mylog.txt') as infile, open('a.out', 'w') as outfile:\n",
    "    pass"
   ]
  },
  {
   "cell_type": "code",
   "execution_count": null,
   "metadata": {},
   "outputs": [],
   "source": [
    "with open('mylog.txt') as infile, open('a.out', 'w') as outfile:\n",
    "    pass"
   ]
  },
  {
   "cell_type": "code",
   "execution_count": 21,
   "metadata": {},
   "outputs": [
    {
     "name": "stdout",
     "output_type": "stream",
     "text": [
      "My first file written from Python\n",
      "---------------------------------\n",
      "Hello, world\n"
     ]
    }
   ],
   "source": [
    "with open(\"test.txt\", \"r\") as reader:\n",
    "    # Read and print the entire file line by line\n",
    "    for line in reader:\n",
    "        print(line, end=\"\")"
   ]
  },
  {
   "cell_type": "code",
   "execution_count": 22,
   "metadata": {},
   "outputs": [
    {
     "name": "stdout",
     "output_type": "stream",
     "text": [
      "b'5'\n",
      "b'd'\n"
     ]
    }
   ],
   "source": [
    "f = open(\"workfile\", \"wb+\")\n",
    "f.write(b\"0123456789abcdef\")\n",
    "f.seek(5)  # Go to the 6th byte in the file\n",
    "print(f.read(1))\n",
    "f.seek(-3, 2)  # Go to the 3rd byte before the end\n",
    "print(f.read(1))\n",
    "f.close()"
   ]
  },
  {
   "cell_type": "code",
   "execution_count": 28,
   "metadata": {},
   "outputs": [
    {
     "name": "stdout",
     "output_type": "stream",
     "text": [
      "Test read after write\n",
      "\n",
      "Test file 0.txt:\n",
      "['Line 1\\n']\n",
      "Read After Write 0.txt:\n",
      "['Line 1\\n', 'xxxxxxx\\n']\n",
      "Test file 1.txt\n",
      "[]\n",
      "Read After Write 1.txt:\n",
      "['xxxxxxx\\n']\n",
      "Test file 2.txt\n",
      "['xxxxxxx\\n']\n",
      "Read After Write 2.txt:\n",
      "['xxxxxxx\\n']\n",
      "Test read after write\n",
      "\n",
      "Test write after read 0: wr0.txt\n",
      "Read After Write wr0.txt:\n"
     ]
    },
    {
     "ename": "FileNotFoundError",
     "evalue": "[Errno 2] No such file or directory: 'wr0.txt'",
     "output_type": "error",
     "traceback": [
      "\u001b[0;31m---------------------------------------------------------------------------\u001b[0m",
      "\u001b[0;31mFileNotFoundError\u001b[0m                         Traceback (most recent call last)",
      "\u001b[1;32m/Users/fancheng/Library/CloudStorage/OneDrive-Personal/CS124计算导论/2023 秋季/lecture notes/ipynb/L12_Rand_File.ipynb Cell 32\u001b[0m line \u001b[0;36m7\n\u001b[1;32m     <a href='vscode-notebook-cell:/Users/fancheng/Library/CloudStorage/OneDrive-Personal/CS124%E8%AE%A1%E7%AE%97%E5%AF%BC%E8%AE%BA/2023%20%E7%A7%8B%E5%AD%A3/lecture%20notes/ipynb/L12_Rand_File.ipynb#X56sZmlsZQ%3D%3D?line=74'>75</a>\u001b[0m     show_file(file)\n\u001b[1;32m     <a href='vscode-notebook-cell:/Users/fancheng/Library/CloudStorage/OneDrive-Personal/CS124%E8%AE%A1%E7%AE%97%E5%AF%BC%E8%AE%BA/2023%20%E7%A7%8B%E5%AD%A3/lecture%20notes/ipynb/L12_Rand_File.ipynb#X56sZmlsZQ%3D%3D?line=77'>78</a>\u001b[0m \u001b[39mprint\u001b[39m(\u001b[39m\"\u001b[39m\u001b[39mTest read after write\u001b[39m\u001b[39m\\n\u001b[39;00m\u001b[39m\"\u001b[39m)\n\u001b[0;32m---> <a href='vscode-notebook-cell:/Users/fancheng/Library/CloudStorage/OneDrive-Personal/CS124%E8%AE%A1%E7%AE%97%E5%AF%BC%E8%AE%BA/2023%20%E7%A7%8B%E5%AD%A3/lecture%20notes/ipynb/L12_Rand_File.ipynb#X56sZmlsZQ%3D%3D?line=78'>79</a>\u001b[0m test_write_after_read0(\u001b[39m\"\u001b[39;49m\u001b[39mwr0.txt\u001b[39;49m\u001b[39m\"\u001b[39;49m)\n\u001b[1;32m     <a href='vscode-notebook-cell:/Users/fancheng/Library/CloudStorage/OneDrive-Personal/CS124%E8%AE%A1%E7%AE%97%E5%AF%BC%E8%AE%BA/2023%20%E7%A7%8B%E5%AD%A3/lecture%20notes/ipynb/L12_Rand_File.ipynb#X56sZmlsZQ%3D%3D?line=79'>80</a>\u001b[0m test_write_after_read1(\u001b[39m\"\u001b[39m\u001b[39mwr1.txt\u001b[39m\u001b[39m\"\u001b[39m)\n",
      "\u001b[1;32m/Users/fancheng/Library/CloudStorage/OneDrive-Personal/CS124计算导论/2023 秋季/lecture notes/ipynb/L12_Rand_File.ipynb Cell 32\u001b[0m line \u001b[0;36m5\n\u001b[1;32m     <a href='vscode-notebook-cell:/Users/fancheng/Library/CloudStorage/OneDrive-Personal/CS124%E8%AE%A1%E7%AE%97%E5%AF%BC%E8%AE%BA/2023%20%E7%A7%8B%E5%AD%A3/lecture%20notes/ipynb/L12_Rand_File.ipynb#X56sZmlsZQ%3D%3D?line=51'>52</a>\u001b[0m \u001b[39mdef\u001b[39;00m \u001b[39mtest_write_after_read0\u001b[39m(file):\n\u001b[1;32m     <a href='vscode-notebook-cell:/Users/fancheng/Library/CloudStorage/OneDrive-Personal/CS124%E8%AE%A1%E7%AE%97%E5%AF%BC%E8%AE%BA/2023%20%E7%A7%8B%E5%AD%A3/lecture%20notes/ipynb/L12_Rand_File.ipynb#X56sZmlsZQ%3D%3D?line=52'>53</a>\u001b[0m     \u001b[39mprint\u001b[39m(\u001b[39mf\u001b[39m\u001b[39m\"\u001b[39m\u001b[39mTest write after read 0: \u001b[39m\u001b[39m{\u001b[39;00mfile\u001b[39m}\u001b[39;00m\u001b[39m\"\u001b[39m)\n\u001b[0;32m---> <a href='vscode-notebook-cell:/Users/fancheng/Library/CloudStorage/OneDrive-Personal/CS124%E8%AE%A1%E7%AE%97%E5%AF%BC%E8%AE%BA/2023%20%E7%A7%8B%E5%AD%A3/lecture%20notes/ipynb/L12_Rand_File.ipynb#X56sZmlsZQ%3D%3D?line=53'>54</a>\u001b[0m     show_file(file)\n\u001b[1;32m     <a href='vscode-notebook-cell:/Users/fancheng/Library/CloudStorage/OneDrive-Personal/CS124%E8%AE%A1%E7%AE%97%E5%AF%BC%E8%AE%BA/2023%20%E7%A7%8B%E5%AD%A3/lecture%20notes/ipynb/L12_Rand_File.ipynb#X56sZmlsZQ%3D%3D?line=55'>56</a>\u001b[0m     \u001b[39mwith\u001b[39;00m \u001b[39mopen\u001b[39m(file, \u001b[39m\"\u001b[39m\u001b[39mr+\u001b[39m\u001b[39m\"\u001b[39m) \u001b[39mas\u001b[39;00m f:\n\u001b[1;32m     <a href='vscode-notebook-cell:/Users/fancheng/Library/CloudStorage/OneDrive-Personal/CS124%E8%AE%A1%E7%AE%97%E5%AF%BC%E8%AE%BA/2023%20%E7%A7%8B%E5%AD%A3/lecture%20notes/ipynb/L12_Rand_File.ipynb#X56sZmlsZQ%3D%3D?line=56'>57</a>\u001b[0m         \u001b[39mprint\u001b[39m(f\u001b[39m.\u001b[39mreadline())\n",
      "\u001b[1;32m/Users/fancheng/Library/CloudStorage/OneDrive-Personal/CS124计算导论/2023 秋季/lecture notes/ipynb/L12_Rand_File.ipynb Cell 32\u001b[0m line \u001b[0;36m3\n\u001b[1;32m      <a href='vscode-notebook-cell:/Users/fancheng/Library/CloudStorage/OneDrive-Personal/CS124%E8%AE%A1%E7%AE%97%E5%AF%BC%E8%AE%BA/2023%20%E7%A7%8B%E5%AD%A3/lecture%20notes/ipynb/L12_Rand_File.ipynb#X56sZmlsZQ%3D%3D?line=0'>1</a>\u001b[0m \u001b[39mdef\u001b[39;00m \u001b[39mshow_file\u001b[39m(file):\n\u001b[1;32m      <a href='vscode-notebook-cell:/Users/fancheng/Library/CloudStorage/OneDrive-Personal/CS124%E8%AE%A1%E7%AE%97%E5%AF%BC%E8%AE%BA/2023%20%E7%A7%8B%E5%AD%A3/lecture%20notes/ipynb/L12_Rand_File.ipynb#X56sZmlsZQ%3D%3D?line=1'>2</a>\u001b[0m     \u001b[39mprint\u001b[39m(\u001b[39mf\u001b[39m\u001b[39m\"\u001b[39m\u001b[39mRead After Write \u001b[39m\u001b[39m{\u001b[39;00mfile\u001b[39m}\u001b[39;00m\u001b[39m:\u001b[39m\u001b[39m\"\u001b[39m)\n\u001b[0;32m----> <a href='vscode-notebook-cell:/Users/fancheng/Library/CloudStorage/OneDrive-Personal/CS124%E8%AE%A1%E7%AE%97%E5%AF%BC%E8%AE%BA/2023%20%E7%A7%8B%E5%AD%A3/lecture%20notes/ipynb/L12_Rand_File.ipynb#X56sZmlsZQ%3D%3D?line=2'>3</a>\u001b[0m     \u001b[39mwith\u001b[39;00m \u001b[39mopen\u001b[39;49m(file, \u001b[39m\"\u001b[39;49m\u001b[39mr\u001b[39;49m\u001b[39m\"\u001b[39;49m) \u001b[39mas\u001b[39;00m f:\n\u001b[1;32m      <a href='vscode-notebook-cell:/Users/fancheng/Library/CloudStorage/OneDrive-Personal/CS124%E8%AE%A1%E7%AE%97%E5%AF%BC%E8%AE%BA/2023%20%E7%A7%8B%E5%AD%A3/lecture%20notes/ipynb/L12_Rand_File.ipynb#X56sZmlsZQ%3D%3D?line=3'>4</a>\u001b[0m         \u001b[39mprint\u001b[39m(f\u001b[39m.\u001b[39mreadlines())\n",
      "File \u001b[0;32m~/Library/Python/3.11/lib/python/site-packages/IPython/core/interactiveshell.py:286\u001b[0m, in \u001b[0;36m_modified_open\u001b[0;34m(file, *args, **kwargs)\u001b[0m\n\u001b[1;32m    279\u001b[0m \u001b[39mif\u001b[39;00m file \u001b[39min\u001b[39;00m {\u001b[39m0\u001b[39m, \u001b[39m1\u001b[39m, \u001b[39m2\u001b[39m}:\n\u001b[1;32m    280\u001b[0m     \u001b[39mraise\u001b[39;00m \u001b[39mValueError\u001b[39;00m(\n\u001b[1;32m    281\u001b[0m         \u001b[39mf\u001b[39m\u001b[39m\"\u001b[39m\u001b[39mIPython won\u001b[39m\u001b[39m'\u001b[39m\u001b[39mt let you open fd=\u001b[39m\u001b[39m{\u001b[39;00mfile\u001b[39m}\u001b[39;00m\u001b[39m by default \u001b[39m\u001b[39m\"\u001b[39m\n\u001b[1;32m    282\u001b[0m         \u001b[39m\"\u001b[39m\u001b[39mas it is likely to crash IPython. If you know what you are doing, \u001b[39m\u001b[39m\"\u001b[39m\n\u001b[1;32m    283\u001b[0m         \u001b[39m\"\u001b[39m\u001b[39myou can use builtins\u001b[39m\u001b[39m'\u001b[39m\u001b[39m open.\u001b[39m\u001b[39m\"\u001b[39m\n\u001b[1;32m    284\u001b[0m     )\n\u001b[0;32m--> 286\u001b[0m \u001b[39mreturn\u001b[39;00m io_open(file, \u001b[39m*\u001b[39;49margs, \u001b[39m*\u001b[39;49m\u001b[39m*\u001b[39;49mkwargs)\n",
      "\u001b[0;31mFileNotFoundError\u001b[0m: [Errno 2] No such file or directory: 'wr0.txt'"
     ]
    }
   ],
   "source": [
    "def show_file(file):\n",
    "    print(f\"Read After Write {file}:\")\n",
    "    with open(file, \"r\") as f:\n",
    "        print(f.readlines())\n",
    "\n",
    "\n",
    "def test_read_after_write0(file):\n",
    "    print(f\"Test file {file}:\")\n",
    "    with open(file, \"w\") as f:\n",
    "        f.write(\"Line 1\\n\")\n",
    "\n",
    "    with open(file, \"r+\") as f:\n",
    "        f.writelines(\"xxxxxxx\\n\")\n",
    "        print(f.readlines())\n",
    "\n",
    "    show_file(file)\n",
    "\n",
    "\n",
    "def test_read_after_write1(file):\n",
    "    print(f\"Test file {file}\")\n",
    "    with open(file, \"w\") as f:\n",
    "        f.write(\"Line 1\\n\")\n",
    "\n",
    "    with open(file, \"r+\") as f:\n",
    "        f.writelines(\"xxxxxxx\\n\")\n",
    "        f.flush()\n",
    "        print(f.readlines())\n",
    "\n",
    "    show_file(file)\n",
    "\n",
    "\n",
    "def test_read_after_write2(file):\n",
    "    print(f\"Test file {file}\")\n",
    "    with open(file, \"w\") as f:\n",
    "        f.write(\"Line 1\\n\")\n",
    "\n",
    "    with open(file, \"r+\") as f:\n",
    "        f.writelines(\"xxxxxxx\\n\")\n",
    "\n",
    "    with open(file, \"r\") as f:\n",
    "        print(f.readlines())\n",
    "\n",
    "    show_file(file)\n",
    "\n",
    "\n",
    "print(\"Test read after write\\n\")\n",
    "test_read_after_write0(\"0.txt\")\n",
    "test_read_after_write1(\"1.txt\")\n",
    "test_read_after_write2(\"2.txt\")\n",
    "\n",
    "\n",
    "def test_write_after_read0(file):\n",
    "    print(f\"Test write after read 0: {file}\")\n",
    "    show_file(file)\n",
    "\n",
    "    with open(file, \"r+\") as f:\n",
    "        print(f.readline())\n",
    "        f.flush()\n",
    "        # \t\tf.seek(0)\n",
    "        f.write(\"hello world\")\n",
    "\n",
    "    show_file(file)\n",
    "\n",
    "\n",
    "def test_write_after_read1(file):\n",
    "    print(f\"Test write after read 1: {file}\")\n",
    "    show_file(file)\n",
    "\n",
    "    with open(file, \"r+\") as f:\n",
    "        print(f.readline())\n",
    "        # \t\tf.flush()\n",
    "        f.seek(0)\n",
    "        f.write(\"hello world\")\n",
    "\n",
    "    show_file(file)\n",
    "\n",
    "\n",
    "print(\"Test read after write\\n\")\n",
    "test_write_after_read0(\"wr0.txt\")\n",
    "test_write_after_read1(\"wr1.txt\")"
   ]
  },
  {
   "cell_type": "code",
   "execution_count": null,
   "metadata": {},
   "outputs": [],
   "source": []
  }
 ],
 "metadata": {
  "kernelspec": {
   "display_name": "Python 3",
   "name": "python3"
  },
  "language_info": {
   "codemirror_mode": {
    "name": "ipython",
    "version": 3
   },
   "file_extension": ".py",
   "mimetype": "text/x-python",
   "name": "python",
   "nbconvert_exporter": "python",
   "pygments_lexer": "ipython3",
   "version": "3.11.6"
  },
  "orig_nbformat": 2
 },
 "nbformat": 4,
 "nbformat_minor": 2
}
