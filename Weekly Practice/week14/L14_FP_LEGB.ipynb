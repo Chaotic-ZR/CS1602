{
 "cells": [
  {
   "cell_type": "markdown",
   "metadata": {},
   "source": [
    "# Function\n"
   ]
  },
  {
   "cell_type": "code",
   "execution_count": 1,
   "metadata": {},
   "outputs": [
    {
     "name": "stdout",
     "output_type": "stream",
     "text": [
      "苟利国家生死以，岂因祸福避趋之 <class 'str'> 4601418720 15\n",
      "苟利国家生死以，岂因祸福避趋之 <class 'str'> 4601418720 15\n",
      "<class 'builtin_function_or_method'>\n",
      "<class 'builtin_function_or_method'>\n",
      "<class 'builtin_function_or_method'>\n",
      "<class 'builtin_function_or_method'>\n",
      "<class 'function'>\n",
      "<class 'function'>\n"
     ]
    }
   ],
   "source": [
    "mytype = type\n",
    "myid = id\n",
    "mylen = len\n",
    "myprint = print\n",
    "poem = \"苟利国家生死以，岂因祸福避趋之\"\n",
    "print(poem, type(poem), id(poem), len(poem))\n",
    "myprint(poem, mytype(poem), myid(poem), mylen(poem))\n",
    "\n",
    "\n",
    "# functions are parameters\n",
    "def func_type(func):\n",
    "    return type(func)\n",
    "\n",
    "\n",
    "def add(x, y):\n",
    "    return x + y\n",
    "\n",
    "\n",
    "print(func_type(id))\n",
    "print(func_type(len))\n",
    "print(func_type(myprint))\n",
    "print(func_type(myid))\n",
    "print(func_type(func_type))\n",
    "print(func_type(add))"
   ]
  },
  {
   "cell_type": "code",
   "execution_count": 2,
   "metadata": {},
   "outputs": [
    {
     "name": "stdout",
     "output_type": "stream",
     "text": [
      "<class 'str'>\n",
      "不讲武德，耗子尾汁\n",
      "4601569008\n",
      "9\n",
      "9 64 625\n"
     ]
    }
   ],
   "source": [
    "# functions are data\n",
    "actions = [type, str, id, len]\n",
    "\n",
    "for act in actions:\n",
    "    print(act(\"不讲武德，耗子尾汁\"))\n",
    "\n",
    "\n",
    "# return value\n",
    "def make(N):\n",
    "    def action(x):\n",
    "        return x**N\n",
    "\n",
    "    return action\n",
    "\n",
    "\n",
    "f1 = make(2)\n",
    "f2 = make(3)\n",
    "f3 = make(4)\n",
    "\n",
    "print(f1(3), f2(4), f3(5))"
   ]
  },
  {
   "cell_type": "code",
   "execution_count": 3,
   "metadata": {},
   "outputs": [
    {
     "name": "stdout",
     "output_type": "stream",
     "text": [
      "1024\n",
      "93174.3733866435\n"
     ]
    }
   ],
   "source": [
    "x = 10\n",
    "\n",
    "\n",
    "def powx(a, x=x):\n",
    "    return a**x\n",
    "\n",
    "\n",
    "print(powx(2))\n",
    "print(powx(3.14))"
   ]
  },
  {
   "cell_type": "code",
   "execution_count": 4,
   "metadata": {},
   "outputs": [
    {
     "name": "stdout",
     "output_type": "stream",
     "text": [
      "[1]\n",
      "[1, 2]\n",
      "[1, 2, 3]\n",
      "[1, 2, 3, 4]\n",
      "[1, 2, 3, 4, 5]\n"
     ]
    }
   ],
   "source": [
    "def test_default(x, lst=[]):\n",
    "    lst.append(x)\n",
    "    return lst\n",
    "\n",
    "\n",
    "print(test_default(1))\n",
    "print(test_default(2))\n",
    "print(test_default(3))\n",
    "print(test_default(4))\n",
    "print(test_default(5))"
   ]
  },
  {
   "cell_type": "code",
   "execution_count": 5,
   "metadata": {},
   "outputs": [
    {
     "name": "stdout",
     "output_type": "stream",
     "text": [
      "[1]\n",
      "[2]\n",
      "[3]\n",
      "[4]\n",
      "[5]\n"
     ]
    }
   ],
   "source": [
    "def test_default(x, lst=None):\n",
    "    if not lst:\n",
    "        lst = []\n",
    "\n",
    "    lst.append(x)\n",
    "    return lst\n",
    "\n",
    "\n",
    "print(test_default(1))\n",
    "print(test_default(2))\n",
    "print(test_default(3))\n",
    "print(test_default(4))\n",
    "print(test_default(5))"
   ]
  },
  {
   "cell_type": "code",
   "execution_count": 6,
   "metadata": {},
   "outputs": [
    {
     "name": "stdout",
     "output_type": "stream",
     "text": [
      "[]\n",
      "[] <class 'list'> 4601885888\n",
      "[1]\n",
      "[1] <class 'list'> 4601885888\n",
      "[1, 2]\n",
      "[1, 2] <class 'list'> 4601885888\n",
      "[1, 2, 3]\n",
      "[1, 2, 3] <class 'list'> 4601885888\n",
      "[1, 2, 3, 4]\n",
      "[1, 2, 3, 4] <class 'list'> 4601885888\n",
      "[1, 2, 3, 4, 5]\n",
      "[1, 2, 3, 4, 5]\n"
     ]
    }
   ],
   "source": [
    "def test_default(x, lst=[]):\n",
    "    print(lst, type(lst), id(lst))\n",
    "    lst.append(x)\n",
    "    return lst\n",
    "\n",
    "\n",
    "print(test_default.__defaults__[0])\n",
    "print(test_default(1))\n",
    "print(test_default(2))\n",
    "print(test_default(3))\n",
    "print(test_default(4))\n",
    "print(test_default(5))\n",
    "print(test_default.__defaults__[0])"
   ]
  },
  {
   "cell_type": "code",
   "execution_count": 7,
   "metadata": {},
   "outputs": [
    {
     "name": "stdout",
     "output_type": "stream",
     "text": [
      "None\n",
      "None <class 'NoneType'> 4375731536\n",
      "[1]\n",
      "None <class 'NoneType'> 4375731536\n",
      "[2]\n",
      "None <class 'NoneType'> 4375731536\n",
      "[3]\n",
      "None <class 'NoneType'> 4375731536\n",
      "[4]\n",
      "None <class 'NoneType'> 4375731536\n",
      "[5]\n",
      "None\n"
     ]
    }
   ],
   "source": [
    "def test_default(x, lst=None):\n",
    "    print(lst, type(lst), id(lst))\n",
    "    if not lst:\n",
    "        lst = []\n",
    "\n",
    "    lst.append(x)\n",
    "    return lst\n",
    "\n",
    "\n",
    "print(test_default.__defaults__[0])\n",
    "print(test_default(1))\n",
    "print(test_default(2))\n",
    "print(test_default(3))\n",
    "print(test_default(4))\n",
    "print(test_default(5))\n",
    "print(test_default.__defaults__[0])"
   ]
  },
  {
   "cell_type": "code",
   "execution_count": 6,
   "metadata": {},
   "outputs": [
    {
     "name": "stdout",
     "output_type": "stream",
     "text": [
      "['__annotations__', '__builtins__', '__call__', '__class__', '__closure__', '__code__', '__defaults__', '__delattr__', '__dict__', '__dir__', '__doc__', '__eq__', '__format__', '__ge__', '__get__', '__getattribute__', '__getstate__', '__globals__', '__gt__', '__hash__', '__init__', '__init_subclass__', '__kwdefaults__', '__le__', '__lt__', '__module__', '__name__', '__ne__', '__new__', '__qualname__', '__reduce__', '__reduce_ex__', '__repr__', '__setattr__', '__sizeof__', '__str__', '__subclasshook__', '__type_params__', 'greeting', 'time']\n",
      "hi 2020\n",
      "func\n",
      "<code object func at 0x0000028FD350D480, file \"C:\\Users\\popeC\\AppData\\Local\\Temp\\ipykernel_20736\\3735119600.py\", line 1>\n",
      "\n",
      "\tLife is short. Use python\n",
      "\t\n",
      "{'greeting': 'hi', 'time': '2020'}\n",
      "176046803048\n"
     ]
    }
   ],
   "source": [
    "def func():\n",
    "    \"\"\"\n",
    "    Life is short. Use python\n",
    "    \"\"\"\n",
    "\n",
    "    def say_hello():\n",
    "        print(\"Hello Python\")\n",
    "\n",
    "\n",
    "func.greeting = \"hi\"\n",
    "func.time = \"2020\"\n",
    "\n",
    "print(dir(func))\n",
    "print(func.greeting, func.time)\n",
    "print(func.__name__)\n",
    "print(func.__code__)\n",
    "print(func.__doc__)\n",
    "print(func.__dict__)\n",
    "print(func.__hash__())"
   ]
  },
  {
   "cell_type": "code",
   "execution_count": 8,
   "metadata": {},
   "outputs": [
    {
     "ename": "TypeError",
     "evalue": "unsupported operand type(s) for ** or pow(): 'int' and 'str'",
     "output_type": "error",
     "traceback": [
      "\u001b[0;31m---------------------------------------------------------------------------\u001b[0m",
      "\u001b[0;31mTypeError\u001b[0m                                 Traceback (most recent call last)",
      "\u001b[1;32m/Users/fancheng/Library/CloudStorage/OneDrive-Personal/CS124计算导论/2023 秋季/lecture notes/ipynb/L14_FP_LEGB.ipynb Cell 10\u001b[0m line \u001b[0;36m1\n\u001b[1;32m      <a href='vscode-notebook-cell:/Users/fancheng/Library/CloudStorage/OneDrive-Personal/CS124%E8%AE%A1%E7%AE%97%E5%AF%BC%E8%AE%BA/2023%20%E7%A7%8B%E5%AD%A3/lecture%20notes/ipynb/L14_FP_LEGB.ipynb#W5sZmlsZQ%3D%3D?line=5'>6</a>\u001b[0m \u001b[39mdef\u001b[39;00m \u001b[39mpowa\u001b[39m(x):\n\u001b[1;32m      <a href='vscode-notebook-cell:/Users/fancheng/Library/CloudStorage/OneDrive-Personal/CS124%E8%AE%A1%E7%AE%97%E5%AF%BC%E8%AE%BA/2023%20%E7%A7%8B%E5%AD%A3/lecture%20notes/ipynb/L14_FP_LEGB.ipynb#W5sZmlsZQ%3D%3D?line=6'>7</a>\u001b[0m     \u001b[39mreturn\u001b[39;00m x\u001b[39m*\u001b[39m\u001b[39m*\u001b[39ma\n\u001b[0;32m---> <a href='vscode-notebook-cell:/Users/fancheng/Library/CloudStorage/OneDrive-Personal/CS124%E8%AE%A1%E7%AE%97%E5%AF%BC%E8%AE%BA/2023%20%E7%A7%8B%E5%AD%A3/lecture%20notes/ipynb/L14_FP_LEGB.ipynb#W5sZmlsZQ%3D%3D?line=9'>10</a>\u001b[0m \u001b[39mprint\u001b[39m(powa(\u001b[39m2\u001b[39;49m))\n\u001b[1;32m     <a href='vscode-notebook-cell:/Users/fancheng/Library/CloudStorage/OneDrive-Personal/CS124%E8%AE%A1%E7%AE%97%E5%AF%BC%E8%AE%BA/2023%20%E7%A7%8B%E5%AD%A3/lecture%20notes/ipynb/L14_FP_LEGB.ipynb#W5sZmlsZQ%3D%3D?line=10'>11</a>\u001b[0m \u001b[39mprint\u001b[39m(powa(\u001b[39m1.6\u001b[39m))\n\u001b[1;32m     <a href='vscode-notebook-cell:/Users/fancheng/Library/CloudStorage/OneDrive-Personal/CS124%E8%AE%A1%E7%AE%97%E5%AF%BC%E8%AE%BA/2023%20%E7%A7%8B%E5%AD%A3/lecture%20notes/ipynb/L14_FP_LEGB.ipynb#W5sZmlsZQ%3D%3D?line=12'>13</a>\u001b[0m a \u001b[39m=\u001b[39m \u001b[39m10\u001b[39m\n",
      "\u001b[1;32m/Users/fancheng/Library/CloudStorage/OneDrive-Personal/CS124计算导论/2023 秋季/lecture notes/ipynb/L14_FP_LEGB.ipynb Cell 10\u001b[0m line \u001b[0;36m7\n\u001b[1;32m      <a href='vscode-notebook-cell:/Users/fancheng/Library/CloudStorage/OneDrive-Personal/CS124%E8%AE%A1%E7%AE%97%E5%AF%BC%E8%AE%BA/2023%20%E7%A7%8B%E5%AD%A3/lecture%20notes/ipynb/L14_FP_LEGB.ipynb#W5sZmlsZQ%3D%3D?line=5'>6</a>\u001b[0m \u001b[39mdef\u001b[39;00m \u001b[39mpowa\u001b[39m(x):\n\u001b[0;32m----> <a href='vscode-notebook-cell:/Users/fancheng/Library/CloudStorage/OneDrive-Personal/CS124%E8%AE%A1%E7%AE%97%E5%AF%BC%E8%AE%BA/2023%20%E7%A7%8B%E5%AD%A3/lecture%20notes/ipynb/L14_FP_LEGB.ipynb#W5sZmlsZQ%3D%3D?line=6'>7</a>\u001b[0m     \u001b[39mreturn\u001b[39;00m x\u001b[39m*\u001b[39;49m\u001b[39m*\u001b[39;49ma\n",
      "\u001b[0;31mTypeError\u001b[0m: unsupported operand type(s) for ** or pow(): 'int' and 'str'"
     ]
    }
   ],
   "source": [
    "# late binding: 调用的时候才确定a的值\n",
    "\n",
    "a = \"耗子尾汁\"\n",
    "\n",
    "\n",
    "def powa(x):\n",
    "    return x**a\n",
    "\n",
    "\n",
    "print(powa(2))\n",
    "print(powa(1.6))\n",
    "\n",
    "a = 10\n",
    "print(powa(2))\n",
    "print(powa(1.6))\n",
    "\n",
    "a = 2.0\n",
    "print(powa(2))\n",
    "print(powa(1.6))\n",
    "\n",
    "a = -1\n",
    "print(powa(2))\n",
    "print(powa(1.6))"
   ]
  },
  {
   "cell_type": "code",
   "execution_count": 9,
   "metadata": {},
   "outputs": [
    {
     "name": "stdout",
     "output_type": "stream",
     "text": [
      "128\n",
      "26.84354560000001\n",
      "128\n",
      "26.84354560000001\n",
      "128\n",
      "26.84354560000001\n",
      "128\n",
      "26.84354560000001\n"
     ]
    }
   ],
   "source": [
    "# late binding: 调用的时候才确定a的值\n",
    "\n",
    "a = 7\n",
    "\n",
    "\n",
    "def powa(x, a=a):\n",
    "    return x**a\n",
    "\n",
    "\n",
    "print(powa(2))\n",
    "print(powa(1.6))\n",
    "\n",
    "a = 10\n",
    "print(powa(2))\n",
    "print(powa(1.6))\n",
    "\n",
    "a = 2.0\n",
    "print(powa(2))\n",
    "print(powa(1.6))\n",
    "\n",
    "a = -1\n",
    "print(powa(2))\n",
    "print(powa(1.6))"
   ]
  },
  {
   "cell_type": "code",
   "execution_count": 9,
   "metadata": {},
   "outputs": [
    {
     "name": "stdout",
     "output_type": "stream",
     "text": [
      "16\n",
      "16\n",
      "16\n",
      "16\n",
      "16\n"
     ]
    }
   ],
   "source": [
    "def pow_x():\n",
    "    plist = []\n",
    "\n",
    "    for i in range(5):\n",
    "\n",
    "        def powa(x):\n",
    "            return x**i\n",
    "\n",
    "        plist.append(powa)\n",
    "\n",
    "    return plist\n",
    "\n",
    "\n",
    "for i in range(5):\n",
    "    print(pow_x()[i](2))"
   ]
  },
  {
   "cell_type": "code",
   "execution_count": 10,
   "metadata": {},
   "outputs": [
    {
     "name": "stdout",
     "output_type": "stream",
     "text": [
      "1\n",
      "2\n",
      "4\n",
      "8\n",
      "16\n"
     ]
    }
   ],
   "source": [
    "def pow_x():\n",
    "    plist = []\n",
    "\n",
    "    for i in range(5):\n",
    "\n",
    "        def powa(x, i=i):\n",
    "            return x**i\n",
    "\n",
    "        plist.append(powa)\n",
    "\n",
    "    return plist\n",
    "\n",
    "\n",
    "for i in range(5):\n",
    "    print(pow_x()[i](2))"
   ]
  },
  {
   "cell_type": "markdown",
   "metadata": {},
   "source": [
    "# 闭包\n"
   ]
  },
  {
   "cell_type": "code",
   "execution_count": null,
   "metadata": {},
   "outputs": [],
   "source": [
    "# return value\n",
    "def make(N):\n",
    "    def action(x):\n",
    "        return x**N\n",
    "\n",
    "    return action\n",
    "\n",
    "\n",
    "f1 = make(2)\n",
    "f2 = make(3)\n",
    "f3 = make(4)\n",
    "print(f1(3), f2(4), f3(5))"
   ]
  },
  {
   "cell_type": "code",
   "execution_count": null,
   "metadata": {},
   "outputs": [],
   "source": [
    "def outer(a):\n",
    "    def inner(b):\n",
    "        return a + b\n",
    "\n",
    "    return inner\n",
    "\n",
    "\n",
    "test = outer(10)\n",
    "print(test(2), test(3))\n",
    "print(outer(-1)(-20))\n",
    "print(test.__closure__)\n",
    "print(test.__closure__[0].cell_contents)"
   ]
  },
  {
   "cell_type": "markdown",
   "metadata": {},
   "source": [
    "# Decorator\n"
   ]
  },
  {
   "cell_type": "code",
   "execution_count": null,
   "metadata": {},
   "outputs": [],
   "source": [
    "# defining a decorator\n",
    "def hello_decorator(func):\n",
    "    # inner1 is a Wrapper function in\n",
    "    # which the argument is called\n",
    "\n",
    "    # inner function can access the outer local\n",
    "    # functions like in this case \"func\"\n",
    "    def inner1():\n",
    "        print(\"Hello, this is before function execution\")\n",
    "\n",
    "        # calling the actual function now\n",
    "        # inside the wrapper function.\n",
    "        func()\n",
    "\n",
    "        print(\"This is after function execution\")\n",
    "\n",
    "    return inner1\n",
    "\n",
    "\n",
    "# defining a function, to be called inside wrapper\n",
    "def function_to_be_used():\n",
    "    print(\"This is inside the function !!\")\n",
    "\n",
    "\n",
    "# passing 'function_to_be_used' inside the\n",
    "# decorator to control its behavior\n",
    "function_to_be_used = hello_decorator(function_to_be_used)\n",
    "\n",
    "\n",
    "# calling the function\n",
    "function_to_be_used()"
   ]
  },
  {
   "cell_type": "code",
   "execution_count": null,
   "metadata": {},
   "outputs": [],
   "source": [
    "def hello_decorator(func):\n",
    "    def inner1():\n",
    "        print(\"Hello, this is before function execution\")\n",
    "        func()\n",
    "        print(\"This is after function execution\")\n",
    "\n",
    "    return inner1\n",
    "\n",
    "\n",
    "@hello_decorator\n",
    "def function_to_be_used():\n",
    "    print(\"This is inside the function !!\")\n",
    "\n",
    "\n",
    "function_to_be_used()\n",
    "\n",
    "\n",
    "@hello_decorator\n",
    "def function_to_be_used_2():\n",
    "    print(\"耗子尾汁\")\n",
    "\n",
    "\n",
    "function_to_be_used_2()"
   ]
  },
  {
   "cell_type": "code",
   "execution_count": null,
   "metadata": {},
   "outputs": [],
   "source": [
    "from math import sin, cos\n",
    "\n",
    "\n",
    "def our_decorator(func):\n",
    "    def function_wrapper(x):\n",
    "        print(\"Before calling \" + func.__name__)\n",
    "        res = func(x)\n",
    "        print(res)\n",
    "        print(\"After calling \" + func.__name__)\n",
    "\n",
    "    return function_wrapper\n",
    "\n",
    "\n",
    "sin = our_decorator(sin)\n",
    "cos = our_decorator(cos)\n",
    "\n",
    "for f in [sin, cos]:\n",
    "    f(3.1415)"
   ]
  },
  {
   "cell_type": "code",
   "execution_count": null,
   "metadata": {},
   "outputs": [],
   "source": [
    "from random import random, randint, choice\n",
    "\n",
    "\n",
    "def our_decorator(func):\n",
    "    def function_wrapper(*args, **kwargs):\n",
    "        print(\"Before calling \" + func.__name__)\n",
    "        res = func(*args, **kwargs)\n",
    "        print(res)\n",
    "        print(\"After calling \" + func.__name__)\n",
    "\n",
    "    return function_wrapper\n",
    "\n",
    "\n",
    "random = our_decorator(random)\n",
    "randint = our_decorator(randint)\n",
    "choice = our_decorator(choice)\n",
    "\n",
    "random()\n",
    "randint(3, 8)\n",
    "choice([4, 5, 6])"
   ]
  },
  {
   "cell_type": "code",
   "execution_count": null,
   "metadata": {},
   "outputs": [],
   "source": [
    "def hello_decorator(func):\n",
    "    def inner1(*args, **kwargs):\n",
    "        print(\"before Execution\")\n",
    "\n",
    "        # getting the returned value\n",
    "        returned_value = func(*args, **kwargs)\n",
    "        print(\"after Execution\")\n",
    "\n",
    "        # returning the value to the original frame\n",
    "        return returned_value\n",
    "\n",
    "    return inner1\n",
    "\n",
    "\n",
    "# adding decorator to the function\n",
    "@hello_decorator\n",
    "def sum_two_numbers(a, b):\n",
    "    print(\"Inside the function\")\n",
    "    return a + b\n",
    "\n",
    "\n",
    "a, b = 1, 2\n",
    "\n",
    "# getting the value through return of the function\n",
    "print(\"Sum =\", sum_two_numbers(a, b))"
   ]
  },
  {
   "cell_type": "code",
   "execution_count": null,
   "metadata": {},
   "outputs": [],
   "source": [
    "def argument_test_natural_number(f):\n",
    "    def helper(x):\n",
    "        if type(x) == int and x > 0:\n",
    "            return f(x)\n",
    "        else:\n",
    "            raise Exception(\"Argument is not an integer\")\n",
    "\n",
    "    return helper\n",
    "\n",
    "\n",
    "@argument_test_natural_number\n",
    "def factorial(n):\n",
    "    if n == 1:\n",
    "        return 1\n",
    "    else:\n",
    "        return n * factorial(n - 1)\n",
    "\n",
    "\n",
    "for i in range(1, 10):\n",
    "    print(i, factorial(i))\n",
    "\n",
    "# print(factorial(-1)) error"
   ]
  },
  {
   "cell_type": "code",
   "execution_count": null,
   "metadata": {},
   "outputs": [],
   "source": [
    "def call_counter(func):\n",
    "    def helper(*args, **kwargs):\n",
    "        helper.calls += 1\n",
    "        return func(*args, **kwargs)\n",
    "\n",
    "    helper.calls = 0\n",
    "\n",
    "    return helper\n",
    "\n",
    "\n",
    "@call_counter\n",
    "def succ(x):\n",
    "    return x + 1\n",
    "\n",
    "\n",
    "@call_counter\n",
    "def mul1(x, y=1):\n",
    "    return x * y + 1\n",
    "\n",
    "\n",
    "print(succ.calls)\n",
    "for i in range(10):\n",
    "    succ(i)\n",
    "mul1(3, 4)\n",
    "mul1(4)\n",
    "mul1(y=3, x=2)\n",
    "\n",
    "print(succ.calls)\n",
    "print(mul1.calls)"
   ]
  },
  {
   "cell_type": "code",
   "execution_count": null,
   "metadata": {},
   "outputs": [],
   "source": [
    "import time\n",
    "import math\n",
    "\n",
    "\n",
    "def calculate_time(func):\n",
    "    # added arguments inside the inner1,\n",
    "    # if function takes any arguments,\n",
    "    # can be added like this.\n",
    "    def inner1(*args, **kwargs):\n",
    "        # storing time before function execution\n",
    "        begin = time.time()\n",
    "\n",
    "        r = func(*args, **kwargs)\n",
    "\n",
    "        # storing time after function execution\n",
    "        end = time.time()\n",
    "        print(\"Total time taken in : \", func.__name__, end - begin)\n",
    "\n",
    "    return inner1\n",
    "\n",
    "\n",
    "# this can be added to any function present,\n",
    "# in this case to calculate a factorial\n",
    "@calculate_time\n",
    "def factorial(num):\n",
    "    # sleep 2 seconds because it takes very less time\n",
    "    # so that you can see the actual difference\n",
    "    time.sleep(2)\n",
    "    print(math.factorial(num))\n",
    "\n",
    "\n",
    "# calling the function.\n",
    "factorial(10)"
   ]
  },
  {
   "cell_type": "markdown",
   "metadata": {},
   "source": [
    "# lambda\n"
   ]
  },
  {
   "cell_type": "code",
   "execution_count": 2,
   "metadata": {},
   "outputs": [
    {
     "name": "stdout",
     "output_type": "stream",
     "text": [
      "2\n",
      "2\n",
      "7\n"
     ]
    }
   ],
   "source": [
    "x = 1\n",
    "y = x + 1\n",
    "print(y)\n",
    "\n",
    "# y = (x = 1) + 1 # Error\n",
    "\n",
    "y = (x := 1 + 1)\n",
    "print(y)\n",
    "\n",
    "# x := 7 # Error\n",
    "(x := 7)\n",
    "print(x)"
   ]
  },
  {
   "cell_type": "code",
   "execution_count": 1,
   "metadata": {},
   "outputs": [
    {
     "name": "stdout",
     "output_type": "stream",
     "text": [
      "15\n",
      "30\n",
      "13\n",
      "22\n",
      "33\n"
     ]
    }
   ],
   "source": [
    "# Add 10 to argument a, and return the result:\n",
    "x = lambda a: a + 10\n",
    "print(x(5))\n",
    "\n",
    "# Multiply argument a with argument b and return the result:\n",
    "x = lambda a, b: a * b\n",
    "print(x(5, 6))\n",
    "\n",
    "# Summarize argument a, b, and c and return the result:\n",
    "x = lambda a, b, c: a + b + c\n",
    "print(x(5, 6, 2))\n",
    "\n",
    "\n",
    "def myfunc(n):\n",
    "    return lambda a: a * n\n",
    "\n",
    "\n",
    "mydoubler = myfunc(2)\n",
    "mytripler = myfunc(3)\n",
    "\n",
    "print(mydoubler(11))\n",
    "print(mytripler(11))"
   ]
  },
  {
   "cell_type": "code",
   "execution_count": null,
   "metadata": {},
   "outputs": [],
   "source": [
    "f = lambda lst, x: lst.append(x) or lst\n",
    "lst = list(range(11))\n",
    "print(f(lst, -12))"
   ]
  },
  {
   "cell_type": "markdown",
   "metadata": {},
   "source": [
    "# sorted\n"
   ]
  },
  {
   "cell_type": "code",
   "execution_count": 4,
   "metadata": {},
   "outputs": [
    {
     "name": "stdout",
     "output_type": "stream",
     "text": [
      "[-5, -1, 1, 2, 3, 10]\n",
      "None\n",
      "[-5, -1, 1, 2, 3, 10]\n",
      "[-5, -1, 1, 2, 3, 10]\n"
     ]
    }
   ],
   "source": [
    "print(sorted([1, 2, 3, -1, 10, -5]))\n",
    "print([1, 2, 3, -1].sort())\n",
    "print(sorted({1, 2, 3, -1, 10, -5}))\n",
    "print(sorted((1, 2, 3, -1, 10, -5)))"
   ]
  },
  {
   "cell_type": "code",
   "execution_count": 1,
   "metadata": {},
   "outputs": [
    {
     "name": "stdout",
     "output_type": "stream",
     "text": [
      "sorted by abs()\n",
      "[1, -1, 2, 3, -5, 10]\n",
      "[1, -1, 2, 3, -5, 10]\n",
      "[1, -1, 2, 3, -5, 10]\n",
      "sorted by pow2()\n",
      "[1, -1, 2, 3, -5, 10]\n",
      "[1, -1, 2, 3, -5, 10]\n",
      "[1, -1, 2, 3, -5, 10]\n",
      "sorted by f()\n",
      "[3, 2, 1, 10, -1, -5]\n",
      "[3, 2, 1, 10, -1, -5]\n",
      "[3, 2, 1, 10, -1, -5]\n",
      "sorted by lambda\n",
      "[1, -1, 2, 3, -5, 10]\n",
      "[1, -1, 2, 3, -5, 10]\n",
      "[3, 2, 1, 10, -1, -5]\n"
     ]
    }
   ],
   "source": [
    "print(\"sorted by abs()\")\n",
    "print(sorted([1, 2, 3, -1, 10, -5], key=abs))\n",
    "print(sorted({1, 2, 3, -1, 10, -5}, key=abs))\n",
    "print(sorted((1, 2, 3, -1, 10, -5), key=abs))\n",
    "\n",
    "\n",
    "def pow2(x):\n",
    "    return x**2\n",
    "\n",
    "\n",
    "print(\"sorted by pow2()\")\n",
    "print(sorted([1, 2, 3, -1, 10, -5], key=pow2))\n",
    "print(sorted({1, 2, 3, -1, 10, -5}, key=pow2))\n",
    "print(sorted((1, 2, 3, -1, 10, -5), key=pow2))\n",
    "\n",
    "\n",
    "def f(x):\n",
    "    return x**2 - 10 * x\n",
    "\n",
    "\n",
    "print(\"sorted by f()\")\n",
    "print(sorted([1, 2, 3, -1, 10, -5], key=f))\n",
    "print(sorted({1, 2, 3, -1, 10, -5}, key=f))\n",
    "print(sorted((1, 2, 3, -1, 10, -5), key=f))\n",
    "\n",
    "print(\"sorted by lambda\")\n",
    "print(sorted([1, 2, 3, -1, 10, -5], key=lambda x: abs(x)))\n",
    "print(sorted([1, 2, 3, -1, 10, -5], key=lambda x: x**2))\n",
    "print(sorted([1, 2, 3, -1, 10, -5], key=lambda x: x**2 - 10 * x))"
   ]
  },
  {
   "cell_type": "code",
   "execution_count": null,
   "metadata": {},
   "outputs": [],
   "source": [
    "from operator import neg\n",
    "\n",
    "print(\"sorted by neg()\")\n",
    "print(sorted([1, 2, 3, -1, 10, -5], key=neg))"
   ]
  },
  {
   "cell_type": "code",
   "execution_count": null,
   "metadata": {},
   "outputs": [],
   "source": [
    "dt = {\n",
    "    \"1\": (lambda x, y: x + y),\n",
    "    \"2\": (lambda x, y: x - y),\n",
    "    \"3\": (lambda x, y: x * y),\n",
    "    \"4\": (lambda x, y: x**y),\n",
    "}\n",
    "\n",
    "keylist = [\"1\", \"3\", \"2\", \"4\", \"1\", \"2\"]\n",
    "for x in keylist:\n",
    "    print(x, dt[x](10, 3))"
   ]
  },
  {
   "cell_type": "code",
   "execution_count": null,
   "metadata": {},
   "outputs": [],
   "source": [
    "def max1(a, b):\n",
    "    if a >= b:\n",
    "        return a\n",
    "    else:\n",
    "        return b\n",
    "\n",
    "\n",
    "def max2(a, b):\n",
    "    return a if a >= b else b\n",
    "\n",
    "\n",
    "def max3(a, b):\n",
    "    return (a, b)[a < b]\n",
    "\n",
    "\n",
    "def max4(a, b):\n",
    "    return ((a >= b) and a) or b\n",
    "\n",
    "\n",
    "print(max1(1, 2), max2(1, 2), max3(1, 2), max4(1, 2))\n",
    "print(max1(2, 2), max2(2, 2), max3(2, 2), max4(2, 2))\n",
    "print(max1(3, 2), max2(3, 2), max3(3, 2), max4(3, 2))"
   ]
  },
  {
   "cell_type": "markdown",
   "metadata": {},
   "source": [
    "# Map\n"
   ]
  },
  {
   "cell_type": "code",
   "execution_count": 11,
   "metadata": {},
   "outputs": [
    {
     "name": "stdout",
     "output_type": "stream",
     "text": [
      "[2, 4, 6, 8]\n",
      "[6, 15, 24]\n",
      "(-1, 0, 1)\n",
      "[1, 0, 1]\n",
      "(-1, 0, 1)\n",
      "[0, 1, 2]\n"
     ]
    }
   ],
   "source": [
    "def addition(n):\n",
    "    return n + n\n",
    "\n",
    "\n",
    "# We double all numbers using map()\n",
    "numbers = (1, 2, 3, 4)\n",
    "result = map(addition, numbers)\n",
    "print(list(result))\n",
    "\n",
    "M = [\n",
    "    [1, 2, 3],  # A 3 × 3 matrix, as nested lists\n",
    "    [4, 5, 6],  # Code can span lines if bracketed\n",
    "    [7, 8, 9],\n",
    "]\n",
    "print(list(map(sum, M)))\n",
    "\n",
    "data = (-1, 0, 1)\n",
    "M = map(abs, data)\n",
    "print(data)\n",
    "print(list(M))\n",
    "print(data)\n",
    "\n",
    "\n",
    "def add1(x):\n",
    "    return x + 1\n",
    "\n",
    "\n",
    "add = map(add1, data)\n",
    "print(list(add))"
   ]
  },
  {
   "cell_type": "markdown",
   "metadata": {},
   "source": [
    "# Filter\n"
   ]
  },
  {
   "cell_type": "code",
   "execution_count": 12,
   "metadata": {},
   "outputs": [
    {
     "name": "stdout",
     "output_type": "stream",
     "text": [
      "['spam', 'ni']\n",
      "<function ff at 0x112ab8c20>\n",
      "[-10, -9, -8, -7, -6, -5, -4, -3, -2, -1, 0, 4, 5, 6, 7, 8, 9, 10]\n"
     ]
    }
   ],
   "source": [
    "f = filter(bool, [\"spam\", \"\", \"ni\"])  # bool(x)\n",
    "print(list(f))\n",
    "\n",
    "\n",
    "def ff(x):\n",
    "    return x**2 - 4 * x >= 0\n",
    "\n",
    "\n",
    "f = filter(ff, range(-10, 11))\n",
    "print(ff)\n",
    "print(list(f))"
   ]
  },
  {
   "cell_type": "markdown",
   "metadata": {},
   "source": [
    "# Reduce\n"
   ]
  },
  {
   "cell_type": "code",
   "execution_count": 13,
   "metadata": {},
   "outputs": [
    {
     "name": "stdout",
     "output_type": "stream",
     "text": [
      "0 + 1 = 1\n",
      "1 + 2 = 3\n",
      "3 + 3 = 6\n",
      "6 + 4 = 10\n",
      "10\n",
      "10\n",
      "24\n",
      "The sum of the list elements is : 17\n",
      "The maximum element of the list is : 6\n"
     ]
    }
   ],
   "source": [
    "from functools import reduce  # Import in 3.X, not in 2.X\n",
    "\n",
    "\n",
    "def my_add(a, b):\n",
    "    result = a + b\n",
    "    print(f\"{a} + {b} = {result}\")\n",
    "    return result\n",
    "\n",
    "\n",
    "numbers = [0, 1, 2, 3, 4]\n",
    "print(reduce(my_add, numbers))\n",
    "\n",
    "print(reduce((lambda x, y: x + y), [1, 2, 3, 4]))\n",
    "\n",
    "print(reduce((lambda x, y: x * y), [1, 2, 3, 4]))\n",
    "lis = [\n",
    "    1,\n",
    "    3,\n",
    "    5,\n",
    "    6,\n",
    "    2,\n",
    "]\n",
    "\n",
    "# using reduce to compute sum of list\n",
    "import functools\n",
    "\n",
    "print(\"The sum of the list elements is : \", end=\"\")\n",
    "print(functools.reduce(lambda a, b: a + b, lis))\n",
    "\n",
    "# using reduce to compute maximum element from list\n",
    "print(\"The maximum element of the list is : \", end=\"\")\n",
    "print(functools.reduce(lambda a, b: a if a > b else b, lis))"
   ]
  },
  {
   "cell_type": "code",
   "execution_count": 14,
   "metadata": {},
   "outputs": [
    {
     "name": "stdout",
     "output_type": "stream",
     "text": [
      "12\n",
      "12\n"
     ]
    }
   ],
   "source": [
    "import operator, functools\n",
    "\n",
    "print(functools.reduce(operator.add, [2, 4, 6]))  # Function-based +\n",
    "print(functools.reduce((lambda x, y: x + y), [2, 4, 6]))"
   ]
  },
  {
   "cell_type": "code",
   "execution_count": 5,
   "metadata": {},
   "outputs": [
    {
     "name": "stdout",
     "output_type": "stream",
     "text": [
      "45\n",
      "-55\n",
      "284\n",
      "282\n",
      "2\n"
     ]
    }
   ],
   "source": [
    "from functools import reduce\n",
    "\n",
    "lis = list(range(10))\n",
    "print(reduce(lambda x, y: x + y, lis))\n",
    "\n",
    "lis = list(range(10))\n",
    "print(reduce(lambda x, y: x + y, lis, -100))\n",
    "\n",
    "lis = list(range(2, 10))  # 1^2+2^2+...+9^2\n",
    "print(reduce(lambda x, y: x + y**2, lis, 0))\n",
    "\n",
    "lis = list(range(2, 10))  # ???\n",
    "print(reduce(lambda x, y: x + y**2, lis))\n",
    "\n",
    "lis = list(range(2, 3))  # ???\n",
    "print(reduce(lambda x, y: x**2 + y**2, lis))"
   ]
  },
  {
   "cell_type": "code",
   "execution_count": 7,
   "metadata": {},
   "outputs": [
    {
     "name": "stdout",
     "output_type": "stream",
     "text": [
      "st = set()\n",
      "li = []\n",
      "st = {-1}\n",
      "li = [-1]\n",
      "st = {1, -1}\n",
      "li = [-1, 1]\n",
      "st = {1, -1, -2}\n",
      "li = [-1, 1, -2]\n",
      "st = {1, 2, -1, -2}\n",
      "li = [-1, 1, -2, 2]\n",
      "st = {1, 2, -2, -3, -1}\n",
      "li = [-1, 1, -2, 2, -3]\n",
      "st = {1, 2, 5, -2, -3, -1}\n",
      "li = [-1, 1, -2, 2, -3, 5]\n",
      "st = {1, 2, 4, 5, -2, -3, -1}\n",
      "li = [-1, 1, -2, 2, -3, 5, 4]\n",
      "st = {1, 2, 4, 5, 6, -2, -3, -1}\n",
      "li = [-1, 1, -2, 2, -3, 5, 4, 6]\n",
      "st = {1, 2, 3, 4, 5, 6, -2, -3, -1}\n",
      "li = [-1, 1, -2, 2, -3, 5, 4, 6, 3]\n",
      "st = {1, 2, 3, 4, 5, 6, 8, -2, -3, -1}\n",
      "li = [-1, 1, -2, 2, -3, 5, 4, 6, 3, 8]\n",
      "st = {1, 2, 3, 4, 5, 6, 8, -2, -3, -1}\n",
      "li = [-1, 1, -2, 2, -3, 5, 4, 6, 3, 8]\n",
      "st = {1, 2, 3, 4, 5, 6, 8, -2, -3, -1}\n",
      "li = [-1, 1, -2, 2, -3, 5, 4, 6, 3, 8]\n",
      "st = {1, 2, 3, 4, 5, 6, 8, -2, -3, -1}\n",
      "li = [-1, 1, -2, 2, -3, 5, 4, 6, 3, 8]\n",
      "st = {1, 2, 3, 4, 5, 6, 8, -2, -3, -1}\n",
      "li = [-1, 1, -2, 2, -3, 5, 4, 6, 3, 8]\n",
      "st = {1, 2, 3, 4, 5, 6, 8, -2, -3, -1}\n",
      "li = [-1, 1, -2, 2, -3, 5, 4, 6, 3, 8]\n",
      "st = {1, 2, 3, 4, 5, 6, 8, -2, -3, -1}\n",
      "li = [-1, 1, -2, 2, -3, 5, 4, 6, 3, 8]\n",
      "({1, 2, 3, 4, 5, 6, 8, -2, -3, -1}, [-1, 1, -2, 2, -3, 5, 4, 6, 3, 8])\n"
     ]
    }
   ],
   "source": [
    "lis = [-1, 1, -2, 2, -3, 5, 4, 6, 3, 8, -1, 8, -2, -3, 1, 2, 3]\n",
    "\n",
    "\n",
    "def flist(x, y):\n",
    "    st, li = x\n",
    "    print(f\"st = {st}\")\n",
    "    print(f\"li = {li}\")\n",
    "    if y not in st:\n",
    "        st.add(y)\n",
    "        li.append(y)\n",
    "    return (st, li)\n",
    "\n",
    "\n",
    "print(reduce(flist, lis, (set(), [])))\n",
    "\n",
    "# lis = [-1, 1, -2, 2, -3, 5, 4, 6, 3, 8, -1, 8, -2, -3, 1, 2, 3]\n",
    "# print(\n",
    "#     reduce(\n",
    "#         lambda x, y: y not in x[0] and (x[0].add(y) or x[0], x[1] + [y]) or x,\n",
    "#         lis,\n",
    "#         (set(), []),\n",
    "#     )\n",
    "# )"
   ]
  },
  {
   "cell_type": "code",
   "execution_count": 17,
   "metadata": {},
   "outputs": [
    {
     "name": "stdout",
     "output_type": "stream",
     "text": [
      "Second_large_num is : 22\n"
     ]
    }
   ],
   "source": [
    "num_list = [1, 2, 4, 33, 6, 22, 9, 13]\n",
    "num = reduce(\n",
    "    lambda ot, x: ot[1] < x and (ot[1], x) or ot[0] < x and (x, ot[1]) or ot,\n",
    "    num_list,\n",
    "    (0, 0),\n",
    ")[0]\n",
    "print(\"Second_large_num is :\", num)"
   ]
  },
  {
   "cell_type": "code",
   "execution_count": 18,
   "metadata": {},
   "outputs": [
    {
     "name": "stdout",
     "output_type": "stream",
     "text": [
      "8558 2 3 9999\n",
      "8558 2 3 9999\n"
     ]
    }
   ],
   "source": [
    "def is_happy(n):\n",
    "    st = set()\n",
    "    while n != 1:\n",
    "        lis = [int(x) for x in str(n)]\n",
    "        rn = reduce(lambda x, y: x + y**2, lis, 0)\n",
    "        if rn in st:\n",
    "            return False\n",
    "        st.add(rn)\n",
    "        n = rn\n",
    "    return n == 1\n",
    "\n",
    "\n",
    "not_happy = lambda n: not is_happy(n)\n",
    "\n",
    "ans = list(filter(lambda n: not is_happy(n), range(1, 10001)))\n",
    "print(len(ans), ans[0], ans[1], ans[-1])\n",
    "\n",
    "ans = list(filter(not_happy, range(1, 10001)))\n",
    "print(len(ans), ans[0], ans[1], ans[-1])"
   ]
  },
  {
   "cell_type": "code",
   "execution_count": 19,
   "metadata": {},
   "outputs": [
    {
     "name": "stdout",
     "output_type": "stream",
     "text": [
      "hello world\n",
      "hello world\n"
     ]
    }
   ],
   "source": [
    "import functools\n",
    "\n",
    "printf = functools.partial(print, end=\"\")\n",
    "\n",
    "\n",
    "class Empty:\n",
    "    pass\n",
    "\n",
    "\n",
    "System = Empty()\n",
    "System.out = Empty()\n",
    "System.out.println = print\n",
    "\n",
    "\n",
    "printf(\"hello world\\n\")\n",
    "System.out.println(\"hello world\")"
   ]
  },
  {
   "cell_type": "markdown",
   "metadata": {},
   "source": [
    "# LEGB Rule\n"
   ]
  },
  {
   "cell_type": "code",
   "execution_count": 20,
   "metadata": {},
   "outputs": [
    {
     "name": "stdout",
     "output_type": "stream",
     "text": [
      "123\n"
     ]
    }
   ],
   "source": [
    "def outer():\n",
    "    x = 123\n",
    "\n",
    "    def inter():\n",
    "        print(x)\n",
    "\n",
    "    inter()\n",
    "\n",
    "\n",
    "outer()"
   ]
  },
  {
   "cell_type": "code",
   "execution_count": 21,
   "metadata": {},
   "outputs": [
    {
     "name": "stdout",
     "output_type": "stream",
     "text": [
      "-1000 100\n",
      "-1000 100 101\n",
      "-1000 100 101 102\n",
      "5050\n"
     ]
    }
   ],
   "source": [
    "x = -1000\n",
    "\n",
    "\n",
    "def f1():\n",
    "    x1 = 100\n",
    "    print(x, x1)\n",
    "\n",
    "    def f2():\n",
    "        x2 = 101\n",
    "        print(x, x1, x2)\n",
    "\n",
    "        def f3():\n",
    "            x3 = 102\n",
    "            print(x, x1, x2, x3)\n",
    "\n",
    "        f3()\n",
    "\n",
    "    f2()\n",
    "\n",
    "\n",
    "f1()\n",
    "\n",
    "\n",
    "def f(n):\n",
    "    return lambda: sum(range(n + 1))\n",
    "\n",
    "\n",
    "print(f(100)())"
   ]
  },
  {
   "cell_type": "code",
   "execution_count": 25,
   "metadata": {},
   "outputs": [
    {
     "name": "stdout",
     "output_type": "stream",
     "text": [
      "300\n"
     ]
    },
    {
     "ename": "UnboundLocalError",
     "evalue": "cannot access local variable 's' where it is not associated with a value",
     "output_type": "error",
     "traceback": [
      "\u001b[0;31m---------------------------------------------------------------------------\u001b[0m",
      "\u001b[0;31mUnboundLocalError\u001b[0m                         Traceback (most recent call last)",
      "\u001b[1;32m/Users/fancheng/Library/CloudStorage/OneDrive-Personal/CS124计算导论/2023 秋季/lecture notes/ipynb/L14_FP_LEGB.ipynb Cell 50\u001b[0m line \u001b[0;36m9\n\u001b[1;32m      <a href='vscode-notebook-cell:/Users/fancheng/Library/CloudStorage/OneDrive-Personal/CS124%E8%AE%A1%E7%AE%97%E5%AF%BC%E8%AE%BA/2023%20%E7%A7%8B%E5%AD%A3/lecture%20notes/ipynb/L14_FP_LEGB.ipynb#Y116sZmlsZQ%3D%3D?line=5'>6</a>\u001b[0m     \u001b[39mprint\u001b[39m(s)\n\u001b[1;32m      <a href='vscode-notebook-cell:/Users/fancheng/Library/CloudStorage/OneDrive-Personal/CS124%E8%AE%A1%E7%AE%97%E5%AF%BC%E8%AE%BA/2023%20%E7%A7%8B%E5%AD%A3/lecture%20notes/ipynb/L14_FP_LEGB.ipynb#Y116sZmlsZQ%3D%3D?line=7'>8</a>\u001b[0m s \u001b[39m=\u001b[39m \u001b[39m100\u001b[39m\n\u001b[0;32m----> <a href='vscode-notebook-cell:/Users/fancheng/Library/CloudStorage/OneDrive-Personal/CS124%E8%AE%A1%E7%AE%97%E5%AF%BC%E8%AE%BA/2023%20%E7%A7%8B%E5%AD%A3/lecture%20notes/ipynb/L14_FP_LEGB.ipynb#Y116sZmlsZQ%3D%3D?line=8'>9</a>\u001b[0m f()\n",
      "\u001b[1;32m/Users/fancheng/Library/CloudStorage/OneDrive-Personal/CS124计算导论/2023 秋季/lecture notes/ipynb/L14_FP_LEGB.ipynb Cell 50\u001b[0m line \u001b[0;36m6\n\u001b[1;32m      <a href='vscode-notebook-cell:/Users/fancheng/Library/CloudStorage/OneDrive-Personal/CS124%E8%AE%A1%E7%AE%97%E5%AF%BC%E8%AE%BA/2023%20%E7%A7%8B%E5%AD%A3/lecture%20notes/ipynb/L14_FP_LEGB.ipynb#Y116sZmlsZQ%3D%3D?line=3'>4</a>\u001b[0m \u001b[39mprint\u001b[39m(s)\n\u001b[1;32m      <a href='vscode-notebook-cell:/Users/fancheng/Library/CloudStorage/OneDrive-Personal/CS124%E8%AE%A1%E7%AE%97%E5%AF%BC%E8%AE%BA/2023%20%E7%A7%8B%E5%AD%A3/lecture%20notes/ipynb/L14_FP_LEGB.ipynb#Y116sZmlsZQ%3D%3D?line=4'>5</a>\u001b[0m \u001b[39mdel\u001b[39;00m s\n\u001b[0;32m----> <a href='vscode-notebook-cell:/Users/fancheng/Library/CloudStorage/OneDrive-Personal/CS124%E8%AE%A1%E7%AE%97%E5%AF%BC%E8%AE%BA/2023%20%E7%A7%8B%E5%AD%A3/lecture%20notes/ipynb/L14_FP_LEGB.ipynb#Y116sZmlsZQ%3D%3D?line=5'>6</a>\u001b[0m \u001b[39mprint\u001b[39m(s)\n",
      "\u001b[0;31mUnboundLocalError\u001b[0m: cannot access local variable 's' where it is not associated with a value"
     ]
    }
   ],
   "source": [
    "def f():\n",
    "    s = 100\n",
    "    s += 200\n",
    "    print(s)\n",
    "    del s\n",
    "    print(s)\n",
    "\n",
    "\n",
    "s = 100\n",
    "f()"
   ]
  },
  {
   "cell_type": "code",
   "execution_count": 26,
   "metadata": {},
   "outputs": [
    {
     "ename": "UnboundLocalError",
     "evalue": "cannot access local variable 's' where it is not associated with a value",
     "output_type": "error",
     "traceback": [
      "\u001b[0;31m---------------------------------------------------------------------------\u001b[0m",
      "\u001b[0;31mUnboundLocalError\u001b[0m                         Traceback (most recent call last)",
      "\u001b[1;32m/Users/fancheng/Library/CloudStorage/OneDrive-Personal/CS124计算导论/2023 秋季/lecture notes/ipynb/L14_FP_LEGB.ipynb Cell 51\u001b[0m line \u001b[0;36m7\n\u001b[1;32m      <a href='vscode-notebook-cell:/Users/fancheng/Library/CloudStorage/OneDrive-Personal/CS124%E8%AE%A1%E7%AE%97%E5%AF%BC%E8%AE%BA/2023%20%E7%A7%8B%E5%AD%A3/lecture%20notes/ipynb/L14_FP_LEGB.ipynb#Y120sZmlsZQ%3D%3D?line=2'>3</a>\u001b[0m     \u001b[39mprint\u001b[39m(s)\n\u001b[1;32m      <a href='vscode-notebook-cell:/Users/fancheng/Library/CloudStorage/OneDrive-Personal/CS124%E8%AE%A1%E7%AE%97%E5%AF%BC%E8%AE%BA/2023%20%E7%A7%8B%E5%AD%A3/lecture%20notes/ipynb/L14_FP_LEGB.ipynb#Y120sZmlsZQ%3D%3D?line=5'>6</a>\u001b[0m s \u001b[39m=\u001b[39m \u001b[39m100\u001b[39m\n\u001b[0;32m----> <a href='vscode-notebook-cell:/Users/fancheng/Library/CloudStorage/OneDrive-Personal/CS124%E8%AE%A1%E7%AE%97%E5%AF%BC%E8%AE%BA/2023%20%E7%A7%8B%E5%AD%A3/lecture%20notes/ipynb/L14_FP_LEGB.ipynb#Y120sZmlsZQ%3D%3D?line=6'>7</a>\u001b[0m f()\n",
      "\u001b[1;32m/Users/fancheng/Library/CloudStorage/OneDrive-Personal/CS124计算导论/2023 秋季/lecture notes/ipynb/L14_FP_LEGB.ipynb Cell 51\u001b[0m line \u001b[0;36m2\n\u001b[1;32m      <a href='vscode-notebook-cell:/Users/fancheng/Library/CloudStorage/OneDrive-Personal/CS124%E8%AE%A1%E7%AE%97%E5%AF%BC%E8%AE%BA/2023%20%E7%A7%8B%E5%AD%A3/lecture%20notes/ipynb/L14_FP_LEGB.ipynb#Y120sZmlsZQ%3D%3D?line=0'>1</a>\u001b[0m \u001b[39mdef\u001b[39;00m \u001b[39mf\u001b[39m():\n\u001b[0;32m----> <a href='vscode-notebook-cell:/Users/fancheng/Library/CloudStorage/OneDrive-Personal/CS124%E8%AE%A1%E7%AE%97%E5%AF%BC%E8%AE%BA/2023%20%E7%A7%8B%E5%AD%A3/lecture%20notes/ipynb/L14_FP_LEGB.ipynb#Y120sZmlsZQ%3D%3D?line=1'>2</a>\u001b[0m     s \u001b[39m+\u001b[39m\u001b[39m=\u001b[39m \u001b[39m200\u001b[39m\n\u001b[1;32m      <a href='vscode-notebook-cell:/Users/fancheng/Library/CloudStorage/OneDrive-Personal/CS124%E8%AE%A1%E7%AE%97%E5%AF%BC%E8%AE%BA/2023%20%E7%A7%8B%E5%AD%A3/lecture%20notes/ipynb/L14_FP_LEGB.ipynb#Y120sZmlsZQ%3D%3D?line=2'>3</a>\u001b[0m     \u001b[39mprint\u001b[39m(s)\n",
      "\u001b[0;31mUnboundLocalError\u001b[0m: cannot access local variable 's' where it is not associated with a value"
     ]
    }
   ],
   "source": [
    "def f():\n",
    "    s += 200\n",
    "    print(s)\n",
    "\n",
    "\n",
    "s = 100\n",
    "f()"
   ]
  },
  {
   "cell_type": "code",
   "execution_count": 27,
   "metadata": {},
   "outputs": [
    {
     "name": "stdout",
     "output_type": "stream",
     "text": [
      "300\n"
     ]
    }
   ],
   "source": [
    "def f():\n",
    "    global s\n",
    "    s += 200\n",
    "    print(s)\n",
    "\n",
    "\n",
    "s = 100\n",
    "f()"
   ]
  },
  {
   "cell_type": "code",
   "execution_count": 28,
   "metadata": {},
   "outputs": [
    {
     "name": "stdout",
     "output_type": "stream",
     "text": [
      "300\n"
     ]
    }
   ],
   "source": [
    "def f():\n",
    "    s = 100\n",
    "    s += 200\n",
    "    print(s)\n",
    "\n",
    "\n",
    "s = 100\n",
    "f()"
   ]
  },
  {
   "cell_type": "code",
   "execution_count": 24,
   "metadata": {},
   "outputs": [
    {
     "name": "stdout",
     "output_type": "stream",
     "text": [
      "I love Paris in the summer!\n"
     ]
    }
   ],
   "source": [
    "def f():\n",
    "    print(s)\n",
    "\n",
    "\n",
    "s = \"I love Paris in the summer!\"\n",
    "f()"
   ]
  },
  {
   "cell_type": "code",
   "execution_count": 9,
   "metadata": {},
   "outputs": [
    {
     "name": "stdout",
     "output_type": "stream",
     "text": [
      "I love London!\n",
      "I love Paris!\n"
     ]
    }
   ],
   "source": [
    "def f():\n",
    "    s = \"I love London!\"\n",
    "    print(s)\n",
    "\n",
    "\n",
    "s = \"I love Paris!\"\n",
    "f()\n",
    "print(s)"
   ]
  },
  {
   "cell_type": "code",
   "execution_count": 8,
   "metadata": {},
   "outputs": [
    {
     "ename": "UnboundLocalError",
     "evalue": "cannot access local variable 's' where it is not associated with a value",
     "output_type": "error",
     "traceback": [
      "\u001b[0;31m---------------------------------------------------------------------------\u001b[0m",
      "\u001b[0;31mUnboundLocalError\u001b[0m                         Traceback (most recent call last)",
      "Cell \u001b[0;32mIn[8], line 8\u001b[0m\n\u001b[1;32m      4\u001b[0m     \u001b[38;5;28mprint\u001b[39m(s)\n\u001b[1;32m      7\u001b[0m s \u001b[38;5;241m=\u001b[39m \u001b[38;5;124m\"\u001b[39m\u001b[38;5;124mI love Paris!\u001b[39m\u001b[38;5;124m\"\u001b[39m\n\u001b[0;32m----> 8\u001b[0m \u001b[43mf\u001b[49m\u001b[43m(\u001b[49m\u001b[43m)\u001b[49m\n",
      "Cell \u001b[0;32mIn[8], line 2\u001b[0m, in \u001b[0;36mf\u001b[0;34m()\u001b[0m\n\u001b[1;32m      1\u001b[0m \u001b[38;5;28;01mdef\u001b[39;00m \u001b[38;5;21mf\u001b[39m():\n\u001b[0;32m----> 2\u001b[0m     \u001b[38;5;28mprint\u001b[39m(\u001b[43ms\u001b[49m)\n\u001b[1;32m      3\u001b[0m     s \u001b[38;5;241m=\u001b[39m \u001b[38;5;124m\"\u001b[39m\u001b[38;5;124mI love London!\u001b[39m\u001b[38;5;124m\"\u001b[39m\n\u001b[1;32m      4\u001b[0m     \u001b[38;5;28mprint\u001b[39m(s)\n",
      "\u001b[0;31mUnboundLocalError\u001b[0m: cannot access local variable 's' where it is not associated with a value"
     ]
    }
   ],
   "source": [
    "def f():\n",
    "    print(s)\n",
    "    s = \"I love London!\"\n",
    "    print(s)\n",
    "\n",
    "\n",
    "s = \"I love Paris!\"\n",
    "f()"
   ]
  },
  {
   "cell_type": "code",
   "execution_count": 10,
   "metadata": {},
   "outputs": [
    {
     "name": "stdout",
     "output_type": "stream",
     "text": [
      "I am looking for a course in Paris!\n",
      "Only in spring, but London is great as well!\n",
      "Only in spring, but London is great as well!\n"
     ]
    }
   ],
   "source": [
    "def f():\n",
    "    global s\n",
    "    print(s)\n",
    "    s = \"Only in spring, but London is great as well!\"\n",
    "    print(s)\n",
    "\n",
    "\n",
    "s = \"I am looking for a course in Paris!\"\n",
    "f()\n",
    "print(s)"
   ]
  },
  {
   "cell_type": "code",
   "execution_count": null,
   "metadata": {},
   "outputs": [],
   "source": [
    "def f():\n",
    "    s = \"I am globally not known\"\n",
    "    print(s)\n",
    "\n",
    "\n",
    "f()\n",
    "print(s)"
   ]
  },
  {
   "cell_type": "code",
   "execution_count": 30,
   "metadata": {},
   "outputs": [
    {
     "name": "stdout",
     "output_type": "stream",
     "text": [
      "42 17 4 17\n",
      "42 15 3 4\n"
     ]
    }
   ],
   "source": [
    "def foo(x, y):\n",
    "    global a\n",
    "    a = 42\n",
    "    x, y = y, x\n",
    "    b = 33\n",
    "    b = 17\n",
    "    c = 100\n",
    "    print(a, b, x, y)\n",
    "\n",
    "\n",
    "a, b, x, y = 1, 15, 3, 4\n",
    "foo(17, 4)\n",
    "print(a, b, x, y)"
   ]
  },
  {
   "cell_type": "code",
   "execution_count": 15,
   "metadata": {},
   "outputs": [
    {
     "name": "stdout",
     "output_type": "stream",
     "text": [
      "Before calling g: Hamburg\n",
      "Calling g now:\n",
      "Hamburg\n",
      "After calling g: Hamburg\n"
     ]
    }
   ],
   "source": [
    "def f():\n",
    "    city = \"Hamburg\"\n",
    "\n",
    "    def g():\n",
    "        global city\n",
    "        city = \"Geneva\"\n",
    "\n",
    "    print(\"Before calling g: \" + city)\n",
    "    print(\"Calling g now:\")\n",
    "    g()\n",
    "    print(\"After calling g: \" + city)\n",
    "\n",
    "\n",
    "f()\n",
    "print(\"Value of city in main: \" + city)"
   ]
  },
  {
   "cell_type": "code",
   "execution_count": 32,
   "metadata": {},
   "outputs": [
    {
     "name": "stdout",
     "output_type": "stream",
     "text": [
      "99 99\n"
     ]
    }
   ],
   "source": [
    "for x in range(100):\n",
    "    for y in range(100):\n",
    "        pass\n",
    "\n",
    "print(x, y)"
   ]
  },
  {
   "cell_type": "code",
   "execution_count": 33,
   "metadata": {},
   "outputs": [
    {
     "name": "stdout",
     "output_type": "stream",
     "text": [
      "-1000 100\n",
      "-1000 100 101\n",
      "-1000 100 101 102\n"
     ]
    }
   ],
   "source": [
    "x = -1000\n",
    "\n",
    "\n",
    "def f1():\n",
    "    x1 = 100\n",
    "    print(x, x1)\n",
    "\n",
    "    def f2():\n",
    "        x2 = 101\n",
    "        print(x, x1, x2)\n",
    "\n",
    "        def f3():\n",
    "            x3 = 102\n",
    "            print(x, x1, x2, x3)\n",
    "\n",
    "        f3()\n",
    "\n",
    "    f2()\n",
    "\n",
    "\n",
    "f1()"
   ]
  },
  {
   "cell_type": "code",
   "execution_count": 34,
   "metadata": {},
   "outputs": [
    {
     "name": "stdout",
     "output_type": "stream",
     "text": [
      "hello\n"
     ]
    }
   ],
   "source": [
    "def myfunc1():\n",
    "    x = \"John\"\n",
    "\n",
    "    def myfunc2():\n",
    "        nonlocal x\n",
    "        x = \"hello\"\n",
    "\n",
    "    myfunc2()\n",
    "    return x\n",
    "\n",
    "\n",
    "print(myfunc1())"
   ]
  },
  {
   "cell_type": "code",
   "execution_count": 35,
   "metadata": {},
   "outputs": [
    {
     "name": "stdout",
     "output_type": "stream",
     "text": [
      "Before calling g: Munich\n",
      "Calling g now:\n",
      "After calling g: Zurich\n",
      "'city' in main: Stuttgart\n"
     ]
    }
   ],
   "source": [
    "def f():\n",
    "    city = \"Munich\"\n",
    "\n",
    "    def g():\n",
    "        nonlocal city\n",
    "        city = \"Zurich\"\n",
    "\n",
    "    print(\"Before calling g: \" + city)\n",
    "    print(\"Calling g now:\")\n",
    "    g()\n",
    "    print(\"After calling g: \" + city)\n",
    "\n",
    "\n",
    "city = \"Stuttgart\"\n",
    "f()\n",
    "print(\"'city' in main: \" + city)"
   ]
  },
  {
   "cell_type": "code",
   "execution_count": 36,
   "metadata": {},
   "outputs": [
    {
     "ename": "SyntaxError",
     "evalue": "no binding for nonlocal 'city' found (2846034766.py, line 4)",
     "output_type": "error",
     "traceback": [
      "\u001b[0;36m  Cell \u001b[0;32mIn[36], line 4\u001b[0;36m\u001b[0m\n\u001b[0;31m    nonlocal city\u001b[0m\n\u001b[0m    ^\u001b[0m\n\u001b[0;31mSyntaxError\u001b[0m\u001b[0;31m:\u001b[0m no binding for nonlocal 'city' found\n"
     ]
    }
   ],
   "source": [
    "def f():\n",
    "    # city = \"Munich\"\n",
    "    def g():\n",
    "        nonlocal city\n",
    "        city = \"Zurich\"\n",
    "\n",
    "    print(\"Before calling g: \" + city)\n",
    "    print(\"Calling g now:\")\n",
    "    g()\n",
    "    print(\"After calling g: \" + city)\n",
    "\n",
    "\n",
    "city = \"Stuttgart\"\n",
    "f()\n",
    "print(\"'city' in main: \" + city)"
   ]
  },
  {
   "cell_type": "code",
   "execution_count": 37,
   "metadata": {},
   "outputs": [
    {
     "name": "stdout",
     "output_type": "stream",
     "text": [
      "g1\n",
      "g2. g1\n",
      "g2. g2\n",
      "g2\n",
      "gg\n"
     ]
    }
   ],
   "source": [
    "x = \"g1\"\n",
    "\n",
    "\n",
    "def g1():\n",
    "    def g2():\n",
    "        # \t\tnonlocal x\n",
    "        global x\n",
    "        print(\"g2. {}\".format(x))\n",
    "        x = \"g2\"\n",
    "        print(\"g2. {}\".format(x))\n",
    "\n",
    "    global x\n",
    "\n",
    "    print(x)\n",
    "    g2()\n",
    "    print(x)\n",
    "    x = \"gg\"\n",
    "    print(x)\n",
    "\n",
    "\n",
    "g1()"
   ]
  }
 ],
 "metadata": {
  "kernelspec": {
   "display_name": "Python 3",
   "language": "python",
   "name": "python3"
  },
  "language_info": {
   "codemirror_mode": {
    "name": "ipython",
    "version": 3
   },
   "file_extension": ".py",
   "mimetype": "text/x-python",
   "name": "python",
   "nbconvert_exporter": "python",
   "pygments_lexer": "ipython3",
   "version": "3.11.5"
  }
 },
 "nbformat": 4,
 "nbformat_minor": 2
}
