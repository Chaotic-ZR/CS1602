{
 "cells": [
  {
   "cell_type": "markdown",
   "metadata": {},
   "source": [
    "# 1. Threading"
   ]
  },
  {
   "cell_type": "code",
   "execution_count": 10,
   "metadata": {},
   "outputs": [
    {
     "name": "stdout",
     "output_type": "stream",
     "text": [
      "h e l l o   t h r e a d   2\n",
      "hello thread 1\n"
     ]
    }
   ],
   "source": [
    "import threading\n",
    "\n",
    "t1 = threading.Thread(target=print, args=(\"hello thread 1\",))\n",
    "t2 = threading.Thread(target=print, args=\"hello thread 2\")\n",
    "\n",
    "# t1.start()\n",
    "# t2.start()\n",
    "\n",
    "t2.start()\n",
    "t1.start()"
   ]
  },
  {
   "cell_type": "code",
   "execution_count": 2,
   "metadata": {},
   "outputs": [
    {
     "name": "stdout",
     "output_type": "stream",
     "text": [
      "hello thread\n",
      "hello thread\n",
      "12\n",
      "4398073456\n",
      "<class 'str'>\n"
     ]
    }
   ],
   "source": [
    "import threading\n",
    "import time\n",
    "\n",
    "message = \"hello thread\"\n",
    "t1 = threading.Thread(target=print, args=(message,))\n",
    "t1.start()\n",
    "\n",
    "\n",
    "def my_print(message):\n",
    "    print(message)\n",
    "    for f in (len, id, type):\n",
    "        print(f(message))\n",
    "\n",
    "\n",
    "t1 = threading.Thread(target=my_print, args=(message,))\n",
    "t1.start()"
   ]
  },
  {
   "cell_type": "code",
   "execution_count": null,
   "metadata": {},
   "outputs": [],
   "source": [
    "import threading\n",
    "\n",
    "t1 = threading.Thread(target=print, args=(\"hello thread 3\",))\n",
    "t2 = threading.Thread(target=print, args=\"hello thread 4\")\n",
    "\n",
    "t2.start()\n",
    "t1.start()"
   ]
  },
  {
   "cell_type": "code",
   "execution_count": null,
   "metadata": {},
   "outputs": [],
   "source": [
    "import threading\n",
    "\n",
    "\n",
    "class MyThread(threading.Thread):\n",
    "    def __init__(self, *args, **kwargs):\n",
    "        super(MyThread, self).__init__(*args, **kwargs)\n",
    "\n",
    "    def run(self):\n",
    "        print(\"called by threading.Thread.start()\")\n",
    "\n",
    "\n",
    "if __name__ == \"__main__\":\n",
    "    mythread = MyThread()\n",
    "    mythread.start()\n",
    "    mythread.join()"
   ]
  },
  {
   "cell_type": "code",
   "execution_count": 13,
   "metadata": {},
   "outputs": [
    {
     "name": "stdout",
     "output_type": "stream",
     "text": [
      "Enter main\n",
      "Enter my print\n",
      "('hello Daemon',)\n",
      "Quit main\n"
     ]
    },
    {
     "name": "stdout",
     "output_type": "stream",
     "text": [
      "Leave my print\n"
     ]
    }
   ],
   "source": [
    "import threading\n",
    "import time\n",
    "\n",
    "\n",
    "def my_print(*args):\n",
    "    print(\"Enter my print\")\n",
    "    print(args)\n",
    "    time.sleep(1)\n",
    "    print(\"Leave my print\")\n",
    "\n",
    "\n",
    "if __name__ == \"__main__\":\n",
    "    print(\"Enter main\")\n",
    "\n",
    "    dm_thread1 = threading.Thread(\n",
    "        target=my_print, args=(\"hello Daemon\",), daemon=None)\n",
    "    dm_thread1.start()\n",
    "\n",
    "    print(\"Quit main\")\n"
   ]
  },
  {
   "cell_type": "code",
   "execution_count": 12,
   "metadata": {},
   "outputs": [
    {
     "name": "stdout",
     "output_type": "stream",
     "text": [
      "Enter main\n",
      "Enter my print\n",
      "('hello Daemon',)\n",
      "Quit main\n"
     ]
    },
    {
     "name": "stdout",
     "output_type": "stream",
     "text": [
      "Leave my print\n"
     ]
    }
   ],
   "source": [
    "import threading\n",
    "import time\n",
    "\n",
    "\n",
    "def my_print(*args):\n",
    "    print(\"Enter my print\")\n",
    "    print(args)\n",
    "    time.sleep(1)\n",
    "    print(\"Leave my print\")\n",
    "\n",
    "\n",
    "if __name__ == \"__main__\":\n",
    "    print(\"Enter main\")\n",
    "\n",
    "    dm_thread1 = threading.Thread(\n",
    "        target=my_print, args=(\"hello Daemon\",), daemon=True)\n",
    "    dm_thread1.start()\n",
    "\n",
    "    print(\"Quit main\")\n"
   ]
  },
  {
   "cell_type": "code",
   "execution_count": 2,
   "metadata": {},
   "outputs": [
    {
     "name": "stdout",
     "output_type": "stream",
     "text": [
      "Enter my print1\n",
      "('hello thread 1',)\n",
      "Enter my print2\n",
      "('h', 'e', 'l', 'l', 'o', ' ', 't', 'h', 'r', 'e', 'a', 'd', ' ', '2')\n",
      "Quit main.\n"
     ]
    },
    {
     "name": "stdout",
     "output_type": "stream",
     "text": [
      "Leave my print1\n",
      "Leave my print2\n"
     ]
    }
   ],
   "source": [
    "import threading\n",
    "import time\n",
    "\n",
    "\n",
    "def my_print1(*args):\n",
    "    print(\"Enter my print1\")\n",
    "    print(args)\n",
    "    time.sleep(1)\n",
    "    print(\"Leave my print1\")\n",
    "\n",
    "\n",
    "def my_print2(*args):\n",
    "    print(\"Enter my print2\")\n",
    "    print(args)\n",
    "    time.sleep(1)\n",
    "    print(\"Leave my print2\")\n",
    "\n",
    "\n",
    "t1 = threading.Thread(target=my_print1, args=(\"hello thread 1\",))\n",
    "t2 = threading.Thread(target=my_print2, args=\"hello thread 2\")\n",
    "\n",
    "t1.start()\n",
    "t2.start()\n",
    "\n",
    "# t2.join()\n",
    "# t1.join()\n",
    "\n",
    "print(\"Quit main.\")"
   ]
  },
  {
   "cell_type": "code",
   "execution_count": null,
   "metadata": {},
   "outputs": [],
   "source": [
    "import threading\n",
    "import time\n",
    "\n",
    "\n",
    "def print_to_console(msg, lock):\n",
    "    \"\"\"\n",
    "    test\n",
    "    \"\"\"\n",
    "    lock.acquire()\n",
    "    print(f\"Enter {msg}\")\n",
    "    time.sleep(1)\n",
    "    print(f\"Leave {msg}\")\n",
    "    lock.release()\n",
    "\n",
    "\n",
    "msg = [f\"hello thread {x}\" for x in range(1, 4)]\n",
    "lock = threading.Lock()\n",
    "\n",
    "t1 = threading.Thread(target=print_to_console, args=(msg[0], lock))\n",
    "t2 = threading.Thread(target=print_to_console, args=(msg[1], lock))\n",
    "t3 = threading.Thread(target=print_to_console, args=(msg[2], lock))\n",
    "\n",
    "t3.start()\n",
    "t2.start()\n",
    "t1.start()"
   ]
  },
  {
   "cell_type": "markdown",
   "metadata": {},
   "source": [
    "# 2. Multiprocessing"
   ]
  },
  {
   "cell_type": "code",
   "execution_count": null,
   "metadata": {},
   "outputs": [],
   "source": [
    "from multiprocessing import Process\n",
    "import os\n",
    "\n",
    "\n",
    "def info(title):\n",
    "    print(title)\n",
    "    print(\"module name:\", __name__)\n",
    "    print(\"parent process:\", os.getppid())\n",
    "    print(\"process id:\", os.getpid())\n",
    "\n",
    "\n",
    "def f(name):\n",
    "    info(\"function f\")\n",
    "    print(\"hello\", name)\n",
    "\n",
    "\n",
    "if __name__ == \"__main__\":\n",
    "    info(\"main line\")\n",
    "    p = Process(target=f, args=(\"bob\",))\n",
    "    p.start()\n",
    "    p.join()"
   ]
  },
  {
   "cell_type": "code",
   "execution_count": null,
   "metadata": {},
   "outputs": [],
   "source": [
    "import multiprocessing as mp\n",
    "print(mp.cpu_count())\n",
    "print(mp.active_children())\n",
    "print(mp.current_process())"
   ]
  },
  {
   "cell_type": "code",
   "execution_count": null,
   "metadata": {},
   "outputs": [],
   "source": [
    "import multiprocessing as mp\n",
    "\n",
    "def foo(q):\n",
    "    q.put('hello')\n",
    "\n",
    "if __name__ == '__main__':\n",
    "    mp.set_start_method('spawn')\n",
    "    q = mp.Queue()\n",
    "    p = mp.Process(target=foo, args=(q,))\n",
    "    p.start()\n",
    "    print(q.get())\n",
    "    p.join()\n"
   ]
  },
  {
   "cell_type": "code",
   "execution_count": null,
   "metadata": {},
   "outputs": [],
   "source": [
    "import multiprocessing as mp\n",
    "\n",
    "def foo(q):\n",
    "    q.put('hello')\n",
    "\n",
    "if __name__ == '__main__':\n",
    "    ctx = mp.get_context('spawn')\n",
    "    q = ctx.Queue()\n",
    "    p = ctx.Process(target=foo, args=(q,))\n",
    "    p.start()\n",
    "    print(q.get())\n",
    "    p.join()"
   ]
  },
  {
   "cell_type": "code",
   "execution_count": null,
   "metadata": {},
   "outputs": [],
   "source": [
    "from multiprocessing import Pool, TimeoutError\n",
    "import time\n",
    "import os\n",
    "\n",
    "def f(x):\n",
    "    return x*x\n",
    "\n",
    "if __name__ == '__main__':\n",
    "    # start 4 worker processes\n",
    "    with Pool(processes=4) as pool:\n",
    "\n",
    "        # print \"[0, 1, 4,..., 81]\"\n",
    "        print(pool.map(f, range(10)))\n",
    "\n",
    "        # print same numbers in arbitrary order\n",
    "        for i in pool.imap_unordered(f, range(10)):\n",
    "            print(i)\n",
    "\n",
    "        # evaluate \"f(20)\" asynchronously\n",
    "        res = pool.apply_async(f, (20,))      # runs in *only* one process\n",
    "        print(res.get(timeout=1))             # prints \"400\"\n",
    "\n",
    "        # evaluate \"os.getpid()\" asynchronously\n",
    "        res = pool.apply_async(os.getpid, ()) # runs in *only* one process\n",
    "        print(res.get(timeout=1))             # prints the PID of that process\n",
    "\n",
    "        # launching multiple evaluations asynchronously *may* use more processes\n",
    "        multiple_results = [pool.apply_async(os.getpid, ()) for i in range(4)]\n",
    "        print([res.get(timeout=1) for res in multiple_results])\n",
    "\n",
    "        # make a single worker sleep for 10 seconds\n",
    "        res = pool.apply_async(time.sleep, (10,))\n",
    "        try:\n",
    "            print(res.get(timeout=1))\n",
    "        except TimeoutError:\n",
    "            print(\"We lacked patience and got a multiprocessing.TimeoutError\")\n",
    "\n",
    "        print(\"For the moment, the pool remains available for more work\")\n",
    "\n",
    "    # exiting the 'with'-block has stopped the pool\n",
    "    print(\"Now the pool is closed and no longer available\")"
   ]
  },
  {
   "cell_type": "code",
   "execution_count": null,
   "metadata": {},
   "outputs": [],
   "source": [
    "from multiprocessing import Pool\n",
    "p = Pool(5)\n",
    "def f(x):\n",
    "    return x*x\n",
    "\n",
    "with p:\n",
    "    p.map(f, [1,2,3])"
   ]
  },
  {
   "cell_type": "code",
   "execution_count": null,
   "metadata": {},
   "outputs": [],
   "source": [
    "import multiprocessing, time, signal\n",
    "mp_context = multiprocessing.get_context('spawn')\n",
    "p = mp_context.Process(target=time.sleep, args=(1000,))\n",
    "print(p, p.is_alive())\n",
    "\n",
    "p.start()\n",
    "print(p, p.is_alive())\n",
    "\n",
    "p.terminate()\n",
    "time.sleep(0.1)\n",
    "print(p, p.is_alive())\n",
    "\n",
    "p.exitcode == -signal.SIGTERM"
   ]
  },
  {
   "cell_type": "markdown",
   "metadata": {},
   "source": [
    "# 3. Concurrent.Futures"
   ]
  },
  {
   "cell_type": "markdown",
   "metadata": {},
   "source": [
    "https://www.packetswitch.co.uk/what-is-concurrent-futures-and-how-can-it-boost-your-python-performance/"
   ]
  },
  {
   "cell_type": "code",
   "execution_count": null,
   "metadata": {},
   "outputs": [],
   "source": [
    "import time\n",
    "import random\n",
    "\n",
    "def mail_letter(letter):\n",
    "    duration = random.randint(1, 5)\n",
    "    print(f\"Started mailing letter {letter} (duration: {duration}s)\")\n",
    "    time.sleep(duration)\n",
    "    print(f\"Finished mailing letter {letter}\")\n",
    "    return f\"Letter {letter} mailed\"\n",
    "\n",
    "if __name__ == '__main__':\n",
    "    letters = ['A', 'B', 'C', 'D', 'E']\n",
    "    results = []\n",
    "\n",
    "    for letter in letters:\n",
    "        result = mail_letter(letter)\n",
    "        results.append(result)\n",
    "\n",
    "    print(\"Mailing Results:\")\n",
    "    for result in results:\n",
    "        print(result)\n"
   ]
  },
  {
   "cell_type": "code",
   "execution_count": 2,
   "metadata": {},
   "outputs": [
    {
     "name": "stdout",
     "output_type": "stream",
     "text": [
      "Started mailing letter A (duration: 4s)Started mailing letter B (duration: 5s)\n",
      "\n",
      "Started mailing letter C (duration: 2s)\n",
      "Started mailing letter D (duration: 2s)\n",
      "Started mailing letter E (duration: 4s)\n",
      "Finished mailing letter C\n",
      "Finished mailing letter D\n",
      "Finished mailing letter A\n",
      "Finished mailing letter E\n",
      "Finished mailing letter B\n",
      "Mailing Results:\n",
      "Letter A mailed\n",
      "Letter B mailed\n",
      "Letter C mailed\n",
      "Letter D mailed\n",
      "Letter E mailed\n"
     ]
    }
   ],
   "source": [
    "import concurrent.futures\n",
    "import time\n",
    "import random\n",
    "\n",
    "def mail_letter(letter):\n",
    "    duration = random.randint(1, 5)\n",
    "    print(f\"Started mailing letter {letter} (duration: {duration}s)\")\n",
    "    time.sleep(duration)\n",
    "    print(f\"Finished mailing letter {letter}\")\n",
    "    return f\"Letter {letter} mailed\"\n",
    "\n",
    "if __name__ == '__main__':\n",
    "    letters = ['A', 'B', 'C', 'D', 'E']\n",
    "\n",
    "    with concurrent.futures.ThreadPoolExecutor() as executor:\n",
    "        results = list(executor.map(mail_letter, letters))\n",
    "\n",
    "    print(\"Mailing Results:\")\n",
    "    for result in results:\n",
    "        print(result)\n"
   ]
  },
  {
   "cell_type": "code",
   "execution_count": 4,
   "metadata": {},
   "outputs": [
    {
     "name": "stdout",
     "output_type": "stream",
     "text": [
      "Started mailing letter A (duration: 5s)\n",
      "Started mailing letter B (duration: 2s)\n",
      "Started mailing letter C (duration: 2s)\n",
      "Started mailing letter D (duration: 3s)\n",
      "Started mailing letter E (duration: 5s)\n",
      "Finished mailing letter BFinished mailing letter C\n",
      "Result: Letter C mailed\n",
      "\n",
      "Result: Letter B mailed\n",
      "Finished mailing letter D\n",
      "Result: Letter D mailed\n",
      "Finished mailing letter AFinished mailing letter E\n",
      "\n",
      "Result: Letter E mailed\n",
      "Result: Letter A mailed\n"
     ]
    }
   ],
   "source": [
    "import concurrent.futures\n",
    "import time\n",
    "import random\n",
    "\n",
    "def mail_letter(letter):\n",
    "    duration = random.randint(1, 5)\n",
    "    print(f\"Started mailing letter {letter} (duration: {duration}s)\")\n",
    "    time.sleep(duration)\n",
    "    print(f\"Finished mailing letter {letter}\")\n",
    "    return f\"Letter {letter} mailed\"\n",
    "\n",
    "if __name__ == '__main__':\n",
    "    letters = ['A', 'B', 'C', 'D', 'E']\n",
    "\n",
    "    with concurrent.futures.ThreadPoolExecutor() as executor:\n",
    "        futures = {executor.submit(mail_letter, letter): letter for letter in letters}\n",
    "\n",
    "        for future in concurrent.futures.as_completed(futures):\n",
    "            letter = futures[future]\n",
    "            result = future.result()\n",
    "            print(f\"Result: {result}\")"
   ]
  },
  {
   "cell_type": "markdown",
   "metadata": {},
   "source": [
    "# 4. AysncIO"
   ]
  },
  {
   "cell_type": "markdown",
   "metadata": {},
   "source": [
    "It is not allowed in Jupyter notebook."
   ]
  },
  {
   "cell_type": "code",
   "execution_count": 4,
   "metadata": {},
   "outputs": [
    {
     "name": "stdout",
     "output_type": "stream",
     "text": [
      "('shanghai', 'jiao', 'tong') <class 'tuple'>\n"
     ]
    }
   ],
   "source": [
    "top = (\n",
    "    'shanghai'\n",
    "    'jiao'\n",
    "    'tong'\n",
    ")\n",
    "print(top, type(top))"
   ]
  },
  {
   "cell_type": "code",
   "execution_count": null,
   "metadata": {},
   "outputs": [],
   "source": [
    "# import asyncio\n",
    "\n",
    "\n",
    "# async def count():\n",
    "#     print(\"One\")\n",
    "#     await asyncio.sleep(1)\n",
    "#     print(\"Two\")\n",
    "\n",
    "# async def main():\n",
    "#     await asyncio.gather(count(), count(), count())\n",
    "\n",
    "# if __name__ == \"__main__\":\n",
    "#     import time\n",
    "#     s = time.perf_counter()\n",
    "#     asyncio.run(main())\n",
    "#     elapsed = time.perf_counter() - s\n",
    "#     print(f\"{__file__} executed in {elapsed:0.2f} seconds.\")"
   ]
  },
  {
   "cell_type": "markdown",
   "metadata": {},
   "source": [
    "# 5. RE"
   ]
  },
  {
   "cell_type": "code",
   "execution_count": null,
   "metadata": {},
   "outputs": [],
   "source": [
    "import re\n",
    "\n",
    "p = re.compile('[b-d]')\n",
    "print(p, type(p))\n",
    "\n",
    "txt = \"cs1a2b3c4d5e6f7z\"\n",
    "\n",
    "m = p.match(txt)\n",
    "print(m, type(m))\n",
    "\n",
    "m = p.search(txt)\n",
    "print(m, type(m))\n",
    "\n",
    "m = p.findall(txt)\n",
    "print(m, type(m))\n",
    "\n",
    "m = p.finditer(txt)\n",
    "print(m, type(m))\n",
    "for _ in m:\n",
    "    print(_)"
   ]
  },
  {
   "cell_type": "code",
   "execution_count": null,
   "metadata": {},
   "outputs": [],
   "source": [
    "import re\n",
    "p = re.compile('[a-z]+')\n",
    "\n",
    "m = p.match('tempo')\n",
    "\n",
    "print(m.group())\n",
    "print(m.start(), m.end())\n",
    "print(m.span())"
   ]
  },
  {
   "cell_type": "code",
   "execution_count": null,
   "metadata": {},
   "outputs": [],
   "source": [
    "import re\n",
    "p = re.compile('[a-z]+')\n",
    "print(p.match('::: message'))\n",
    "m = p.search('::: message')\n",
    "print(m)\n",
    "print(m.group())\n",
    "print(m.span())"
   ]
  },
  {
   "cell_type": "code",
   "execution_count": null,
   "metadata": {},
   "outputs": [],
   "source": [
    "import re\n",
    "\n",
    "print(re.match(r'From\\s+', 'Fromage amk'))\n",
    "print(re.match(r'From\\s+', 'From amk Thu May 14 19:12:10 1998'))\n",
    "\n",
    "print(re.match('[a-z]+', '::: message'))\n",
    "print(re.search('[a-z]+', '::: message'))"
   ]
  },
  {
   "cell_type": "code",
   "execution_count": null,
   "metadata": {},
   "outputs": [],
   "source": []
  }
 ],
 "metadata": {
  "kernelspec": {
   "display_name": "Python 3",
   "language": "python",
   "name": "python3"
  },
  "language_info": {
   "codemirror_mode": {
    "name": "ipython",
    "version": 3
   },
   "file_extension": ".py",
   "mimetype": "text/x-python",
   "name": "python",
   "nbconvert_exporter": "python",
   "pygments_lexer": "ipython3",
   "version": "3.11.5"
  }
 },
 "nbformat": 4,
 "nbformat_minor": 2
}
