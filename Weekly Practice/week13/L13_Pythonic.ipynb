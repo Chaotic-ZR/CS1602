{
 "cells": [
  {
   "cell_type": "markdown",
   "metadata": {},
   "source": [
    "#  Iterable"
   ]
  },
  {
   "cell_type": "code",
   "execution_count": null,
   "metadata": {},
   "outputs": [],
   "source": [
    "ilst = iter([-1, 1, -2, 3, 4])\n",
    "print(next(ilst))\n",
    "print(next(ilst))\n",
    "print(next(ilst))\n",
    "print(next(ilst))\n",
    "print(next(ilst))\n",
    "\n",
    "itp = iter(tuple(range(4)))\n",
    "print(next(itp))\n",
    "print(next(itp))\n",
    "print(next(itp))\n",
    "print(next(itp))\n",
    "\n",
    "str1 = \"SJTU\"\n",
    "istr = iter(\"SJTU\")\n",
    "print(next(istr))\n",
    "print(next(istr))\n",
    "print(next(istr))\n",
    "print(next(istr))\n",
    "\n",
    "idt = iter({123: 123, -1: -2, -3: -5, 4.1: 3.14})\n",
    "print(next(idt))\n",
    "print(next(idt))\n",
    "print(next(idt))\n",
    "print(next(idt))"
   ]
  },
  {
   "cell_type": "code",
   "execution_count": null,
   "metadata": {},
   "outputs": [],
   "source": [
    "ist = iter(set((-1, -2, -3, -4)))\n",
    "print(next(ist))\n",
    "print(next(ist))\n",
    "print(next(ist))\n",
    "print(next(ist))\n",
    "\n",
    "ir = iter(range(-4, 5, 2))\n",
    "print(next(ir))\n",
    "print(next(ir))\n",
    "print(next(ir))\n",
    "print(next(ir))\n",
    "print(next(ir))\n",
    "\n",
    "M = [\n",
    "    [1, 2, 3],  # A 3 × 3 matrix, as nested lists\n",
    "    [4, 5, 6],  # Code can span lines if bracketed\n",
    "    [7, 8, 9],\n",
    "]\n",
    "\n",
    "g = (sum(row) for row in M)\n",
    "print(next(g))\n",
    "print(next(g))\n",
    "print(next(g))"
   ]
  },
  {
   "cell_type": "code",
   "execution_count": null,
   "metadata": {},
   "outputs": [],
   "source": [
    "r = range(-4, 5, 2)\n",
    "ir = iter(r)\n",
    "print(ir == r, ir is r)\n",
    "\n",
    "iter_lst = iter([-1, 1, -2, 3, 4])\n",
    "iter_lst1 = iter(iter_lst)\n",
    "print(iter_lst is iter_lst1)"
   ]
  },
  {
   "cell_type": "code",
   "execution_count": null,
   "metadata": {},
   "outputs": [],
   "source": [
    "class MyNumbers:\n",
    "    def __init__(self, a=0):\n",
    "        self.a = a\n",
    "\n",
    "    def __iter__(self):\n",
    "        self.a = 1\n",
    "        print(\"__iter__\")\n",
    "        return self\n",
    "\n",
    "    def __next__(self):\n",
    "        if self.a <= 7:\n",
    "            print(\"next\")\n",
    "            x = self.a\n",
    "            self.a += 1\n",
    "            return x\n",
    "        else:\n",
    "            raise StopIteration\n",
    "\n",
    "\n",
    "myclass = MyNumbers()\n",
    "\n",
    "for x in myclass:\n",
    "    print(x)"
   ]
  },
  {
   "cell_type": "code",
   "execution_count": null,
   "metadata": {},
   "outputs": [],
   "source": [
    "class MyNumbers:\n",
    "    def __init__(self, a=0):\n",
    "        self.a = a\n",
    "\n",
    "    # def __iter__(self):\n",
    "    # \tself.a = 1\n",
    "    # \tprint(\"__iter__\")\n",
    "    # \treturn self\n",
    "\n",
    "    # def __next__(self):\n",
    "    # \tif self.a <= 7:\n",
    "    # \t\tprint(\"next\")\n",
    "    # \t\tx = self.a\n",
    "    # \t\tself.a += 1\n",
    "    # \t\treturn x\n",
    "    # \telse:\n",
    "    # \t\traise StopIteration\n",
    "\n",
    "\n",
    "myclass = MyNumbers()\n",
    "\n",
    "for x in myclass:\n",
    "    print(x)"
   ]
  },
  {
   "cell_type": "code",
   "execution_count": null,
   "metadata": {},
   "outputs": [],
   "source": [
    "class MyNumbers:\n",
    "    def __init__(self, a=0):\n",
    "        self.a = a\n",
    "\n",
    "    def __iter__(self):\n",
    "        self.a = 1\n",
    "        print(\"__iter__\")\n",
    "        return self\n",
    "\n",
    "    def __next__(self):\n",
    "        if self.a <= 7:\n",
    "            print(\"next\")\n",
    "            x = self.a\n",
    "            self.a += 1\n",
    "            return x\n",
    "        else:\n",
    "            raise StopIteration\n",
    "\n",
    "\n",
    "myclass = MyNumbers()\n",
    "myiter = iter(myclass)\n",
    "\n",
    "for x in myiter:\n",
    "    print(x)"
   ]
  },
  {
   "cell_type": "code",
   "execution_count": null,
   "metadata": {},
   "outputs": [],
   "source": [
    "x = {\"1\": -1, 2: -2, (1, 2): -3}\n",
    "a, b, c = x\n",
    "print(a, b, c)"
   ]
  },
  {
   "cell_type": "code",
   "execution_count": null,
   "metadata": {},
   "outputs": [],
   "source": [
    "i = 0\n",
    "L = [1, 2, 3]\n",
    "i, L[i] = L[i], i\n",
    "print(i, L)"
   ]
  },
  {
   "cell_type": "code",
   "execution_count": null,
   "metadata": {},
   "outputs": [],
   "source": [
    "def test_star(it):\n",
    "    x, *f = it\n",
    "    print(x, f)\n",
    "\n",
    "\n",
    "test_star([_ for _ in range(7)])\n",
    "test_star({1: -1, 2: 2, 3: 3})\n",
    "\n",
    "lst = [_ for _ in range(7)]\n",
    "# *f = lst  # SyntaxError: starred assignment target must be in a list or tuple\n",
    "(*f,) = lst\n",
    "\n",
    "\n",
    "def f(a, b, c):\n",
    "    return a + b * c\n",
    "\n",
    "\n",
    "dl = [1, 2, 3]\n",
    "print(f(*dl))\n",
    "print(*dl, dl)\n",
    "\n",
    "sg = [x for x in range(10)]\n",
    "print(*sg)"
   ]
  },
  {
   "cell_type": "code",
   "execution_count": null,
   "metadata": {},
   "outputs": [],
   "source": [
    "# dt = {\"-1\": -1, \"2\": 2, \"3\": 3, \"4\":1}\n",
    "# print(*dt)\n",
    "# print(**dt)"
   ]
  },
  {
   "cell_type": "code",
   "execution_count": null,
   "metadata": {},
   "outputs": [],
   "source": [
    "def f(*args):\n",
    "    for x in args:\n",
    "        print(x)\n",
    "\n",
    "\n",
    "f(1, 2, 3)\n",
    "f(3, 4)\n",
    "f(7)"
   ]
  },
  {
   "cell_type": "code",
   "execution_count": null,
   "metadata": {},
   "outputs": [],
   "source": [
    "def m(*args):\n",
    "    z = 1\n",
    "    for x in args:\n",
    "        z *= x\n",
    "    print(z)\n",
    "\n",
    "\n",
    "m(1, 2, 3)\n",
    "m(-1, -2)\n",
    "m(1, 1j, 2j)"
   ]
  },
  {
   "cell_type": "code",
   "execution_count": null,
   "metadata": {},
   "outputs": [],
   "source": [
    "def print_values(**kwargs):\n",
    "    for key, value in kwargs. items():\n",
    "        print(f\"The value of {key} is {value}\")\n",
    "\n",
    "\n",
    "print_values (my_name=\"thor\", your_name=\"hulk\")"
   ]
  },
  {
   "cell_type": "code",
   "execution_count": null,
   "metadata": {},
   "outputs": [],
   "source": [
    "def some_args(arg_1, arg_2, arg_3):\n",
    "    print(\"arg_1:\", arg_1)\n",
    "    print(\"arg_2:\", arg_2)\n",
    "    print(\"arg_3:\", arg_3)\n",
    "\n",
    "\n",
    "my_list = [2, 31]\n",
    "some_args(1, *my_list)\n",
    "\n",
    "\n",
    "def some_kwargs(kwarg_1, kwarg_2, kwarg_3):\n",
    "    print(\"kwarg_1:\", kwarg_1)\n",
    "    print(\"kwarg_2:\", kwarg_2)\n",
    "    print(\"kwarg_3:\", kwarg_3)\n",
    "\n",
    "\n",
    "kwargs = {\"kwarg_1\": \"Val\", \"kwarg_2\": \"Harper\", \"kwarg_3\": \"Remy\"}\n",
    "some_kwargs(**kwargs)"
   ]
  },
  {
   "cell_type": "markdown",
   "metadata": {},
   "source": [
    "# list comprehension"
   ]
  },
  {
   "cell_type": "code",
   "execution_count": null,
   "metadata": {},
   "outputs": [],
   "source": [
    "squares = []\n",
    "\n",
    "for x in range(10):\n",
    "    squares.append(x**2)\n",
    "print(squares)\n",
    "\n",
    "squares = [x**2 for x in range(10)]\n",
    "print(squares)"
   ]
  },
  {
   "cell_type": "code",
   "execution_count": null,
   "metadata": {},
   "outputs": [],
   "source": [
    "print([2 * x for x in range(6) if x % 2 == 0])\n",
    "print([(x, y) for x in [1, 2, 3] for y in [3, 1, 4] if x != y])\n",
    "\n",
    "vec = [-4, -2, 0, 2, 4]\n",
    "print([x * 2 for x in vec])\n",
    "print([x for x in vec if x >= 0])\n",
    "print([abs(x) for x in vec])\n",
    "\n",
    "fruit = [\"  banana\", \"   loganberry\", \"passion fruit   \"]\n",
    "print([x.strip() for x in fruit])\n",
    "\n",
    "print([(x, x**2) for x in range(6)])\n",
    "\n",
    "from math import pi\n",
    "\n",
    "print([str(round(pi, i)) for i in range(6)])\n",
    "\n",
    "matrix = [[1, 2, 3, 4], [5, 6, 7, 8], [9, 10, 11, 12]]\n",
    "print([[row[i] for row in matrix] for i in range(4)])"
   ]
  },
  {
   "cell_type": "code",
   "execution_count": null,
   "metadata": {},
   "outputs": [],
   "source": [
    "G = (sum(row) for row in M)\n",
    "print(type(G))"
   ]
  },
  {
   "cell_type": "code",
   "execution_count": null,
   "metadata": {},
   "outputs": [],
   "source": [
    "def gensquares(N):\n",
    "    for i in range(N):\n",
    "        yield i**2  # Resume here later\n",
    "\n",
    "\n",
    "for i in gensquares(5):  # range()\n",
    "    print(i, end=\" \")\n",
    "print()"
   ]
  },
  {
   "cell_type": "code",
   "execution_count": null,
   "metadata": {},
   "outputs": [],
   "source": [
    "x = gensquares(4)\n",
    "ix = iter(x)\n",
    "print(ix == x, ix is x)\n",
    "print(x)"
   ]
  },
  {
   "cell_type": "code",
   "execution_count": null,
   "metadata": {},
   "outputs": [],
   "source": [
    "print(next(x))\n",
    "print(next(x))\n",
    "print(next(x))\n",
    "print(next(x))\n",
    "# print(next(x)) # error: last element"
   ]
  },
  {
   "cell_type": "code",
   "execution_count": null,
   "metadata": {},
   "outputs": [],
   "source": [
    "lst = [x ** 2 for x in range(4)]\n",
    "print(type(lst))\n",
    "\n",
    "ge = (x ** 2 for x in range(4))\n",
    "print(type(ge))\n",
    "\n",
    "lst1 = list(x ** 2 for x in range(4))\n",
    "print(type(lst1))\n",
    "\n",
    "# ge1 = x ** 2 for x in range(4) #error\n",
    "# print(type(ge))"
   ]
  },
  {
   "cell_type": "code",
   "execution_count": null,
   "metadata": {},
   "outputs": [],
   "source": [
    "g = (2 * x + 1 for x in range(7))\n",
    "lg = tuple(g)\n",
    "print(type(g), type(lg), lg)\n",
    "\n",
    "g = (2 * x + 1 for x in range(7))\n",
    "lg = set(g)\n",
    "print(type(g), type(lg), lg)\n",
    "\n",
    "# g = (2*x+1:x for x in range(7)) # error\n",
    "lg = {2 * x + 1: x for x in range(7)}\n",
    "print(type(g), type(lg), lg)"
   ]
  },
  {
   "cell_type": "code",
   "execution_count": null,
   "metadata": {},
   "outputs": [],
   "source": [
    "for num in (x**2 for x in range(4)):  # Calls next() automatically\n",
    "    print(\"%s, %s\" % (num, num / 2.0))\n",
    "\n",
    "print(\"\".join(x.upper() for x in \"aaa,bbb,ccc\".split(\",\")))\n",
    "\n",
    "a, b, c = (x + \"\\n\" for x in \"aaa,bbb,ccc\".split(\",\"))\n",
    "print(a, b, c)\n",
    "\n",
    "print(sum(x**2 for x in range(4)))\n",
    "print(sorted(x**2 - 1.5 * x for x in range(4)))\n",
    "print(sorted((x**2 - 1.5 * x for x in range(4)), reverse=True))"
   ]
  },
  {
   "cell_type": "code",
   "execution_count": null,
   "metadata": {},
   "outputs": [],
   "source": [
    "def timesfour(S):  # Generator function\n",
    "    for c in S:\n",
    "        yield c * 4\n",
    "\n",
    "\n",
    "G = timesfour(\"spam\")\n",
    "print(list(G))"
   ]
  },
  {
   "cell_type": "code",
   "execution_count": null,
   "metadata": {},
   "outputs": [],
   "source": [
    "line = \"aa bbb c\"\n",
    "print(\"\".join(x.upper() for x in line.split() if len(x) > 1))  # Expression\n",
    "\n",
    "\n",
    "def gensub(line):  # Function\n",
    "    for x in line.split():\n",
    "        if len(x) > 1:\n",
    "            yield x.upper()\n",
    "\n",
    "\n",
    "print(\"\".join(gensub(line)))"
   ]
  },
  {
   "cell_type": "code",
   "execution_count": null,
   "metadata": {},
   "outputs": [],
   "source": [
    "sg = (x for x in \"hello world. 苟利\")\n",
    "print(next(sg))\n",
    "\n",
    "lis = list(sg)\n",
    "print(lis)\n",
    "\n",
    "#print(next(sg)) #error\n",
    "\n",
    "sg = (x for x in \"hello world. 苟利\")\n",
    "print(type(sg))\n",
    "lis = list(sg)\n",
    "print(lis)\n",
    "#print(next(sg)) #error"
   ]
  },
  {
   "cell_type": "code",
   "execution_count": null,
   "metadata": {},
   "outputs": [],
   "source": [
    "g = ( 2*x+1 for x in range(7))\n",
    "lg = tuple(g)\n",
    "print(type(g), type(lg), lg)\n",
    "\n",
    "g = ( 2*x+1 for x in range(7))\n",
    "lg = set(g)\n",
    "print(type(g), type(lg), lg)\n",
    "\n",
    "# g = (2*x+1:x for x in range(7)) # error\n",
    "lg = { 2*x+1:x for x in range(7)}\n",
    "print(type(g), type(lg), lg)"
   ]
  },
  {
   "cell_type": "markdown",
   "metadata": {},
   "source": [
    "# Function\n"
   ]
  },
  {
   "cell_type": "code",
   "execution_count": null,
   "metadata": {},
   "outputs": [],
   "source": [
    "mytype = type\n",
    "myid = id\n",
    "mylen = len\n",
    "myprint = print\n",
    "poem = \"苟利国家生死以，岂因祸福避趋之\"\n",
    "print(poem, type(poem), id(poem), len(poem))\n",
    "myprint(poem, mytype(poem), myid(poem), mylen(poem))\n",
    "\n",
    "\n",
    "# functions are parameters\n",
    "def func_type(func):\n",
    "    return type(func)\n",
    "\n",
    "\n",
    "def add(x, y):\n",
    "    return x + y\n",
    "\n",
    "\n",
    "print(func_type(id))\n",
    "print(func_type(len))\n",
    "print(func_type(myprint))\n",
    "print(func_type(myid))\n",
    "print(func_type(func_type))\n",
    "print(func_type(add))"
   ]
  },
  {
   "cell_type": "code",
   "execution_count": null,
   "metadata": {},
   "outputs": [],
   "source": [
    "# functions are data\n",
    "actions = [type, str, id, len]\n",
    "\n",
    "for act in actions:\n",
    "    print(act(\"不讲武德，耗子尾汁\"))\n",
    "\n",
    "\n",
    "# return value\n",
    "def make(N):\n",
    "    def action(x):\n",
    "        return x**N\n",
    "\n",
    "    return action\n",
    "\n",
    "\n",
    "f1 = make(2)\n",
    "f2 = make(3)\n",
    "f3 = make(4)\n",
    "\n",
    "print(f1(3), f2(4), f3(5))"
   ]
  },
  {
   "cell_type": "code",
   "execution_count": null,
   "metadata": {},
   "outputs": [],
   "source": [
    "x = 10\n",
    "\n",
    "\n",
    "def powx(a, x=x):\n",
    "    return a**x\n",
    "\n",
    "\n",
    "print(powx(2))\n",
    "print(powx(3.14))"
   ]
  },
  {
   "cell_type": "code",
   "execution_count": null,
   "metadata": {},
   "outputs": [],
   "source": [
    "def test_default(x, lst=[]):\n",
    "    lst.append(x)\n",
    "    return lst\n",
    "\n",
    "\n",
    "print(test_default(1))\n",
    "print(test_default(2))\n",
    "print(test_default(3))\n",
    "print(test_default(4))\n",
    "print(test_default(5))"
   ]
  },
  {
   "cell_type": "code",
   "execution_count": null,
   "metadata": {},
   "outputs": [],
   "source": [
    "def test_default(x, lst=None):\n",
    "    if not lst:\n",
    "        lst = []\n",
    "\n",
    "    lst.append(x)\n",
    "    return lst\n",
    "\n",
    "\n",
    "print(test_default(1))\n",
    "print(test_default(2))\n",
    "print(test_default(3))\n",
    "print(test_default(4))\n",
    "print(test_default(5))"
   ]
  },
  {
   "cell_type": "code",
   "execution_count": null,
   "metadata": {},
   "outputs": [],
   "source": [
    "def test_default(x, lst=[]):\n",
    "    print(lst, type(lst), id(lst))\n",
    "    lst.append(x)\n",
    "    return lst\n",
    "\n",
    "\n",
    "print(test_default.__defaults__[0])\n",
    "print(test_default(1))\n",
    "print(test_default(2))\n",
    "print(test_default(3))\n",
    "print(test_default(4))\n",
    "print(test_default(5))\n",
    "print(test_default.__defaults__[0])"
   ]
  },
  {
   "cell_type": "code",
   "execution_count": null,
   "metadata": {},
   "outputs": [],
   "source": [
    "def test_default(x, lst=None):\n",
    "    print(lst, type(lst), id(lst))\n",
    "    if not lst:\n",
    "        lst = []\n",
    "\n",
    "    lst.append(x)\n",
    "    return lst\n",
    "\n",
    "\n",
    "print(test_default.__defaults__[0])\n",
    "print(test_default(1))\n",
    "print(test_default(2))\n",
    "print(test_default(3))\n",
    "print(test_default(4))\n",
    "print(test_default(5))\n",
    "print(test_default.__defaults__[0])"
   ]
  },
  {
   "cell_type": "code",
   "execution_count": null,
   "metadata": {},
   "outputs": [],
   "source": [
    "def func():\n",
    "    \"\"\"\n",
    "    Life is short. Use python\n",
    "    \"\"\"\n",
    "\n",
    "    def say_hello():\n",
    "        print(\"Hello Python\")\n",
    "\n",
    "\n",
    "func.greeting = \"hi\"\n",
    "func.time = \"2020\"\n",
    "\n",
    "print(dir(func))\n",
    "print(func.greeting, func.time)\n",
    "print(func.__name__)\n",
    "print(func.__code__)\n",
    "print(func.__doc__)\n",
    "print(func.__dict__)\n",
    "print(func.__hash__())"
   ]
  },
  {
   "cell_type": "code",
   "execution_count": null,
   "metadata": {},
   "outputs": [],
   "source": [
    "# late binding: 调用的时候才确定a的值\n",
    "\n",
    "a = \"耗子尾汁\"\n",
    "\n",
    "\n",
    "def powa(x):\n",
    "    return x**a\n",
    "\n",
    "a = 10\n",
    "print(powa(2))\n",
    "print(powa(1.6))\n",
    "\n",
    "a = 2.0\n",
    "print(powa(2))\n",
    "print(powa(1.6))\n",
    "\n",
    "a = -1\n",
    "print(powa(2))\n",
    "print(powa(1.6))"
   ]
  },
  {
   "cell_type": "code",
   "execution_count": null,
   "metadata": {},
   "outputs": [],
   "source": [
    "# late binding: 调用的时候才确定a的值\n",
    "\n",
    "a = 7\n",
    "\n",
    "\n",
    "def powa(x, a=a):\n",
    "    return x**a\n",
    "\n",
    "\n",
    "print(powa(2))\n",
    "print(powa(1.6))\n",
    "\n",
    "a = 10\n",
    "print(powa(2))\n",
    "print(powa(1.6))\n",
    "\n",
    "a = 2.0\n",
    "print(powa(2))\n",
    "print(powa(1.6))\n",
    "\n",
    "a = -1\n",
    "print(powa(2))\n",
    "print(powa(1.6))"
   ]
  },
  {
   "cell_type": "code",
   "execution_count": 7,
   "metadata": {},
   "outputs": [
    {
     "name": "stdout",
     "output_type": "stream",
     "text": [
      "16\n",
      "16\n",
      "16\n",
      "16\n",
      "16\n"
     ]
    }
   ],
   "source": [
    "def pow_x():\n",
    "    plist = []\n",
    "\n",
    "    for i in range(5):\n",
    "\n",
    "        def powa(x):\n",
    "            return x**i\n",
    "\n",
    "        plist.append(powa)\n",
    "\n",
    "    return plist\n",
    "\n",
    "\n",
    "for i in range(5):\n",
    "    print(pow_x()[i](2))"
   ]
  },
  {
   "cell_type": "code",
   "execution_count": 8,
   "metadata": {},
   "outputs": [
    {
     "name": "stdout",
     "output_type": "stream",
     "text": [
      "1\n",
      "2\n",
      "4\n",
      "8\n",
      "16\n"
     ]
    }
   ],
   "source": [
    "def pow_x():\n",
    "    plist = []\n",
    "\n",
    "    for i in range(5):\n",
    "\n",
    "        def powa(x, i=i):\n",
    "            return x**i\n",
    "\n",
    "        plist.append(powa)\n",
    "\n",
    "    return plist\n",
    "\n",
    "\n",
    "for i in range(5):\n",
    "    print(pow_x()[i](2))"
   ]
  },
  {
   "cell_type": "markdown",
   "metadata": {},
   "source": [
    "# 闭包\n"
   ]
  },
  {
   "cell_type": "code",
   "execution_count": null,
   "metadata": {},
   "outputs": [],
   "source": [
    "# return value\n",
    "def make(N):\n",
    "    def action(x):\n",
    "        return x**N\n",
    "\n",
    "    return action\n",
    "\n",
    "\n",
    "f1 = make(2)\n",
    "f2 = make(3)\n",
    "f3 = make(4)\n",
    "print(f1(3), f2(4), f3(5))"
   ]
  },
  {
   "cell_type": "code",
   "execution_count": null,
   "metadata": {},
   "outputs": [],
   "source": [
    "def outer(a):\n",
    "    def inner(b):\n",
    "        return a + b\n",
    "\n",
    "    return inner\n",
    "\n",
    "\n",
    "test = outer(10)\n",
    "print(test(2), test(3))\n",
    "print(outer(-1)(-20))\n",
    "print(test.__closure__)\n",
    "print(test.__closure__[0].cell_contents)"
   ]
  },
  {
   "cell_type": "markdown",
   "metadata": {},
   "source": [
    "# Decorator\n"
   ]
  },
  {
   "cell_type": "code",
   "execution_count": null,
   "metadata": {},
   "outputs": [],
   "source": [
    "# defining a decorator\n",
    "def hello_decorator(func):\n",
    "    # inner1 is a Wrapper function in\n",
    "    # which the argument is called\n",
    "\n",
    "    # inner function can access the outer local\n",
    "    # functions like in this case \"func\"\n",
    "    def inner1():\n",
    "        print(\"Hello, this is before function execution\")\n",
    "\n",
    "        # calling the actual function now\n",
    "        # inside the wrapper function.\n",
    "        func()\n",
    "\n",
    "        print(\"This is after function execution\")\n",
    "\n",
    "    return inner1\n",
    "\n",
    "\n",
    "# defining a function, to be called inside wrapper\n",
    "def function_to_be_used():\n",
    "    print(\"This is inside the function !!\")\n",
    "\n",
    "\n",
    "# passing 'function_to_be_used' inside the\n",
    "# decorator to control its behavior\n",
    "function_to_be_used = hello_decorator(function_to_be_used)\n",
    "\n",
    "\n",
    "# calling the function\n",
    "function_to_be_used()"
   ]
  },
  {
   "cell_type": "code",
   "execution_count": null,
   "metadata": {},
   "outputs": [],
   "source": [
    "def hello_decorator(func):\n",
    "    def inner1():\n",
    "        print(\"Hello, this is before function execution\")\n",
    "        func()\n",
    "        print(\"This is after function execution\")\n",
    "\n",
    "    return inner1\n",
    "\n",
    "\n",
    "@hello_decorator\n",
    "def function_to_be_used():\n",
    "    print(\"This is inside the function !!\")\n",
    "\n",
    "\n",
    "function_to_be_used()\n",
    "\n",
    "\n",
    "@hello_decorator\n",
    "def function_to_be_used_2():\n",
    "    print(\"耗子尾汁\")\n",
    "\n",
    "\n",
    "function_to_be_used_2()"
   ]
  },
  {
   "cell_type": "code",
   "execution_count": null,
   "metadata": {},
   "outputs": [],
   "source": [
    "from math import sin, cos\n",
    "\n",
    "\n",
    "def our_decorator(func):\n",
    "    def function_wrapper(x):\n",
    "        print(\"Before calling \" + func.__name__)\n",
    "        res = func(x)\n",
    "        print(res)\n",
    "        print(\"After calling \" + func.__name__)\n",
    "\n",
    "    return function_wrapper\n",
    "\n",
    "\n",
    "sin = our_decorator(sin)\n",
    "cos = our_decorator(cos)\n",
    "\n",
    "for f in [sin, cos]:\n",
    "    f(3.1415)"
   ]
  },
  {
   "cell_type": "code",
   "execution_count": null,
   "metadata": {},
   "outputs": [],
   "source": [
    "from random import random, randint, choice\n",
    "\n",
    "\n",
    "def our_decorator(func):\n",
    "    def function_wrapper(*args, **kwargs):\n",
    "        print(\"Before calling \" + func.__name__)\n",
    "        res = func(*args, **kwargs)\n",
    "        print(res)\n",
    "        print(\"After calling \" + func.__name__)\n",
    "\n",
    "    return function_wrapper\n",
    "\n",
    "\n",
    "random = our_decorator(random)\n",
    "randint = our_decorator(randint)\n",
    "choice = our_decorator(choice)\n",
    "\n",
    "random()\n",
    "randint(3, 8)\n",
    "choice([4, 5, 6])"
   ]
  },
  {
   "cell_type": "code",
   "execution_count": null,
   "metadata": {},
   "outputs": [],
   "source": [
    "def hello_decorator(func):\n",
    "    def inner1(*args, **kwargs):\n",
    "        print(\"before Execution\")\n",
    "\n",
    "        # getting the returned value\n",
    "        returned_value = func(*args, **kwargs)\n",
    "        print(\"after Execution\")\n",
    "\n",
    "        # returning the value to the original frame\n",
    "        return returned_value\n",
    "\n",
    "    return inner1\n",
    "\n",
    "\n",
    "# adding decorator to the function\n",
    "@hello_decorator\n",
    "def sum_two_numbers(a, b):\n",
    "    print(\"Inside the function\")\n",
    "    return a + b\n",
    "\n",
    "\n",
    "a, b = 1, 2\n",
    "\n",
    "# getting the value through return of the function\n",
    "print(\"Sum =\", sum_two_numbers(a, b))"
   ]
  },
  {
   "cell_type": "code",
   "execution_count": null,
   "metadata": {},
   "outputs": [],
   "source": [
    "def argument_test_natural_number(f):\n",
    "    def helper(x):\n",
    "        if type(x) == int and x > 0:\n",
    "            return f(x)\n",
    "        else:\n",
    "            raise Exception(\"Argument is not an integer\")\n",
    "\n",
    "    return helper\n",
    "\n",
    "\n",
    "@argument_test_natural_number\n",
    "def factorial(n):\n",
    "    if n == 1:\n",
    "        return 1\n",
    "    else:\n",
    "        return n * factorial(n - 1)\n",
    "\n",
    "\n",
    "for i in range(1, 10):\n",
    "    print(i, factorial(i))\n",
    "\n",
    "# print(factorial(-1)) error"
   ]
  },
  {
   "cell_type": "code",
   "execution_count": null,
   "metadata": {},
   "outputs": [],
   "source": [
    "def call_counter(func):\n",
    "    def helper(*args, **kwargs):\n",
    "        helper.calls += 1\n",
    "        return func(*args, **kwargs)\n",
    "\n",
    "    helper.calls = 0\n",
    "\n",
    "    return helper\n",
    "\n",
    "\n",
    "@call_counter\n",
    "def succ(x):\n",
    "    return x + 1\n",
    "\n",
    "\n",
    "@call_counter\n",
    "def mul1(x, y=1):\n",
    "    return x * y + 1\n",
    "\n",
    "\n",
    "print(succ.calls)\n",
    "for i in range(10):\n",
    "    succ(i)\n",
    "mul1(3, 4)\n",
    "mul1(4)\n",
    "mul1(y=3, x=2)\n",
    "\n",
    "print(succ.calls)\n",
    "print(mul1.calls)"
   ]
  },
  {
   "cell_type": "code",
   "execution_count": null,
   "metadata": {},
   "outputs": [],
   "source": [
    "import time\n",
    "import math\n",
    "\n",
    "\n",
    "def calculate_time(func):\n",
    "    # added arguments inside the inner1,\n",
    "    # if function takes any arguments,\n",
    "    # can be added like this.\n",
    "    def inner1(*args, **kwargs):\n",
    "        # storing time before function execution\n",
    "        begin = time.time()\n",
    "\n",
    "        r = func(*args, **kwargs)\n",
    "\n",
    "        # storing time after function execution\n",
    "        end = time.time()\n",
    "        print(\"Total time taken in : \", func.__name__, end - begin)\n",
    "\n",
    "    return inner1\n",
    "\n",
    "\n",
    "# this can be added to any function present,\n",
    "# in this case to calculate a factorial\n",
    "@calculate_time\n",
    "def factorial(num):\n",
    "    # sleep 2 seconds because it takes very less time\n",
    "    # so that you can see the actual difference\n",
    "    time.sleep(2)\n",
    "    print(math.factorial(num))\n",
    "\n",
    "\n",
    "# calling the function.\n",
    "factorial(10)"
   ]
  },
  {
   "cell_type": "markdown",
   "metadata": {},
   "source": [
    "# lambda\n"
   ]
  },
  {
   "cell_type": "code",
   "execution_count": null,
   "metadata": {},
   "outputs": [],
   "source": [
    "# Add 10 to argument a, and return the result:\n",
    "x = lambda a: a + 10\n",
    "print(x(5))\n",
    "\n",
    "# Multiply argument a with argument b and return the result:\n",
    "x = lambda a, b: a * b\n",
    "print(x(5, 6))\n",
    "\n",
    "# Summarize argument a, b, and c and return the result:\n",
    "x = lambda a, b, c: a + b + c\n",
    "print(x(5, 6, 2))\n",
    "\n",
    "\n",
    "def myfunc(n):\n",
    "    return lambda a: a * n\n",
    "\n",
    "\n",
    "mydoubler = myfunc(2)\n",
    "mytripler = myfunc(3)\n",
    "\n",
    "print(mydoubler(11))\n",
    "print(mytripler(11))"
   ]
  },
  {
   "cell_type": "code",
   "execution_count": null,
   "metadata": {},
   "outputs": [],
   "source": [
    "f = lambda lst, x: lst.append(x) or lst\n",
    "lst = list(range(11))\n",
    "print(f(lst, -12))"
   ]
  }
 ],
 "metadata": {
  "kernelspec": {
   "display_name": "Python 3",
   "language": "python",
   "name": "python3"
  },
  "language_info": {
   "codemirror_mode": {
    "name": "ipython",
    "version": 3
   },
   "file_extension": ".py",
   "mimetype": "text/x-python",
   "name": "python",
   "nbconvert_exporter": "python",
   "pygments_lexer": "ipython3",
   "version": "3.11.5"
  }
 },
 "nbformat": 4,
 "nbformat_minor": 2
}
